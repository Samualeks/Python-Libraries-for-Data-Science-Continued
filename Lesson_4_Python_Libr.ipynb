{
 "cells": [
  {
   "cell_type": "markdown",
   "id": "cd2b04cf",
   "metadata": {},
   "source": [
    "Урок 4. Оценка и интерпретация полученной модели. Обсуждение курсового проекта."
   ]
  },
  {
   "cell_type": "markdown",
   "id": "29ccb7c3",
   "metadata": {},
   "source": [
    "1. Расскажите, как работает регуляризация в решающих деревьях, какие параметры мы штрафуем в данных алгоритмах?"
   ]
  },
  {
   "cell_type": "markdown",
   "id": "b22e2190",
   "metadata": {},
   "source": [
    "Регуляризация - позволяет контролировать рост модели опираясь на анализ ее сложности.\n",
    "Регуляризация помогает решить проблему переобученности модели.\n",
    "Переобучение в большинстве случаев проявляется в том, что в получающихся многочленах слишком большие коэффициенты. \n",
    "Соответственно, слишком большие коэффициенты должны штрафоваться."
   ]
  },
  {
   "cell_type": "markdown",
   "id": "a6f90a6c",
   "metadata": {},
   "source": [
    "2. По какому принципу рассчитывается \"важность признака (feature_importance)\" в ансамблях деревьев?"
   ]
  },
  {
   "cell_type": "markdown",
   "id": "7ee7dcb1",
   "metadata": {},
   "source": [
    "Важность признака определяет то, как признак влияют на модель, т.е. насколько в среднем изменяется прогноз при изменении значения объекта. \n",
    "Чем больше значение важности, тем больше в среднем значение прогноза, если признак была изменен."
   ]
  },
  {
   "cell_type": "code",
   "execution_count": null,
   "id": "cd606cf6",
   "metadata": {},
   "outputs": [],
   "source": []
  }
 ],
 "metadata": {
  "kernelspec": {
   "display_name": "Python 3 (ipykernel)",
   "language": "python",
   "name": "python3"
  },
  "language_info": {
   "codemirror_mode": {
    "name": "ipython",
    "version": 3
   },
   "file_extension": ".py",
   "mimetype": "text/x-python",
   "name": "python",
   "nbconvert_exporter": "python",
   "pygments_lexer": "ipython3",
   "version": "3.9.12"
  }
 },
 "nbformat": 4,
 "nbformat_minor": 5
}
