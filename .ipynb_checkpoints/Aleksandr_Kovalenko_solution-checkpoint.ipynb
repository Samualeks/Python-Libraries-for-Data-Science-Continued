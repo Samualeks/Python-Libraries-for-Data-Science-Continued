{
 "cells": [
  {
   "cell_type": "markdown",
   "id": "78080187",
   "metadata": {},
   "source": [
    "# Курсовой проект"
   ]
  },
  {
   "cell_type": "markdown",
   "id": "7bd40f62",
   "metadata": {},
   "source": [
    "### Постановка задачи\n",
    "#### Задача\n",
    "\n",
    "Требуется, на основании имеющихся данных о клиентах банка, построить модель, используя обучающий датасет, для прогнозирования невыполнения долговых обязательств по текущему кредиту. Выполнить прогноз для примеров из тестового датасета.\n",
    "\n",
    "#### Наименование файлов с данными\n",
    "\n",
    "* course_project_train.csv - обучающий датасет\n",
    "* course_project_test.csv - тестовый датасет\n",
    "\n",
    "#### Целевая переменная\n",
    "\n",
    "Credit Default - факт невыполнения кредитных обязательств\n",
    "\n",
    "#### Метрика качества\n",
    "\n",
    "F1-score (sklearn.metrics.f1_score)\n",
    "\n",
    "#### Требования к решению\n",
    "\n",
    "Целевая метрика\n",
    "\n",
    "* F1 > 0.5\n",
    "* Метрика оценивается по качеству прогноза для главного класса (1 - просрочка по кредиту)"
   ]
  },
  {
   "cell_type": "markdown",
   "id": "b4fbc5fc",
   "metadata": {},
   "source": [
    "#### Подключение библиотек"
   ]
  },
  {
   "cell_type": "code",
   "execution_count": 90,
   "id": "6509e855",
   "metadata": {},
   "outputs": [],
   "source": [
    "import numpy as np\n",
    "import pandas as pd\n",
    "\n",
    "import matplotlib\n",
    "import matplotlib.pyplot as plt\n",
    "import seaborn as sns\n",
    "%matplotlib inline\n",
    "matplotlib.rcParams.update({'font.size': 14})\n",
    "\n",
    "import warnings\n",
    "warnings.simplefilter('ignore')\n",
    "\n",
    "from sklearn.model_selection import train_test_split, cross_val_score\n",
    "\n",
    "# Алгоритмы кластеризации (какие нашел)\n",
    "from sklearn.linear_model import LogisticRegression, LogisticRegressionCV\n",
    "from sklearn.neighbors import KNeighborsClassifier\n",
    "import xgboost as xgb, lightgbm as lgbm, catboost as catb\n",
    "from sklearn.model_selection import KFold, StratifiedKFold, GridSearchCV, RandomizedSearchCV\n",
    "from sklearn.ensemble import AdaBoostClassifier\n",
    "from sklearn.ensemble import ExtraTreesClassifier\n",
    "from sklearn.ensemble import GradientBoostingClassifier\n",
    "from sklearn.ensemble import RandomForestClassifier\n",
    "from sklearn.ensemble import VotingClassifier\n",
    "from sklearn.svm import SVC\n",
    "from sklearn.naive_bayes import GaussianNB\n",
    "from sklearn.linear_model import Perceptron\n",
    "from sklearn.tree import DecisionTreeClassifier\n",
    "from sklearn.ensemble import RandomForestClassifier\n",
    "from sklearn.ensemble import BaggingClassifier\n",
    "\n",
    "# Метрика F1:\n",
    "from sklearn.metrics import classification_report, f1_score, precision_score, recall_score\n",
    "\n",
    "# для статистики\n",
    "from scipy.stats import chi2_contingency\n",
    "from sklearn.preprocessing import StandardScaler, MinMaxScaler\n",
    "from scipy.stats import shapiro\n",
    "from scipy.stats import mannwhitneyu\n",
    "from scipy.stats import probplot\n",
    "\n",
    "# Балансировщик \n",
    "from imblearn.over_sampling import RandomOverSampler"
   ]
  },
  {
   "cell_type": "markdown",
   "id": "c2881ab0",
   "metadata": {},
   "source": [
    "#### Пути к файлам"
   ]
  },
  {
   "cell_type": "code",
   "execution_count": 2,
   "id": "854bd2d4",
   "metadata": {},
   "outputs": [],
   "source": [
    "TRAIN_DATASET_PATH = 'course_project_train.csv'\n",
    "TEST_DATASET_PATH = 'course_project_test.csv'"
   ]
  },
  {
   "cell_type": "markdown",
   "id": "20f50269",
   "metadata": {},
   "source": [
    "#### Описание датасета"
   ]
  },
  {
   "cell_type": "markdown",
   "id": "8a4620b4",
   "metadata": {},
   "source": [
    "* **Home Ownership** - домовладение\n",
    "* **Annual Income** - годовой доход\n",
    "* **Years in current job** - количество лет на текущем месте работы\n",
    "* **Tax Liens** - налоговые обременения\n",
    "* **Number of Open Accounts** - количество открытых счетов\n",
    "* **Years of Credit History** - количество лет кредитной истории\n",
    "* **Maximum Open Credit** - наибольший открытый кредит\n",
    "* **Number of Credit Problems** - количество проблем с кредитом\n",
    "* **Months since last delinquent** - количество месяцев с последней просрочки платежа\n",
    "* **Bankruptcies** - банкротства\n",
    "* **Purpose** - цель кредита\n",
    "* **Term** - срок кредита\n",
    "* **Current Loan Amount** - текущая сумма кредита\n",
    "* **Current Credit Balance** - текущий кредитный баланс\n",
    "* **Monthly Debt** - ежемесячный долг\n",
    "* **Credit Score** - кредитный рейтинг\n",
    "* **Credit Default** - факт невыполнения кредитных обязательств (0 - погашен вовремя, 1 - просрочка)"
   ]
  },
  {
   "cell_type": "markdown",
   "id": "b25e08b1",
   "metadata": {},
   "source": [
    "#### Загрузка данных"
   ]
  },
  {
   "cell_type": "code",
   "execution_count": 3,
   "id": "0d59c876",
   "metadata": {},
   "outputs": [
    {
     "data": {
      "text/html": [
       "<div>\n",
       "<style scoped>\n",
       "    .dataframe tbody tr th:only-of-type {\n",
       "        vertical-align: middle;\n",
       "    }\n",
       "\n",
       "    .dataframe tbody tr th {\n",
       "        vertical-align: top;\n",
       "    }\n",
       "\n",
       "    .dataframe thead th {\n",
       "        text-align: right;\n",
       "    }\n",
       "</style>\n",
       "<table border=\"1\" class=\"dataframe\">\n",
       "  <thead>\n",
       "    <tr style=\"text-align: right;\">\n",
       "      <th></th>\n",
       "      <th>Home Ownership</th>\n",
       "      <th>Annual Income</th>\n",
       "      <th>Years in current job</th>\n",
       "      <th>Tax Liens</th>\n",
       "      <th>Number of Open Accounts</th>\n",
       "      <th>Years of Credit History</th>\n",
       "      <th>Maximum Open Credit</th>\n",
       "      <th>Number of Credit Problems</th>\n",
       "      <th>Months since last delinquent</th>\n",
       "      <th>Bankruptcies</th>\n",
       "      <th>Purpose</th>\n",
       "      <th>Term</th>\n",
       "      <th>Current Loan Amount</th>\n",
       "      <th>Current Credit Balance</th>\n",
       "      <th>Monthly Debt</th>\n",
       "      <th>Credit Score</th>\n",
       "      <th>Credit Default</th>\n",
       "    </tr>\n",
       "  </thead>\n",
       "  <tbody>\n",
       "    <tr>\n",
       "      <th>7495</th>\n",
       "      <td>Rent</td>\n",
       "      <td>402192.0</td>\n",
       "      <td>&lt; 1 year</td>\n",
       "      <td>0.0</td>\n",
       "      <td>3.0</td>\n",
       "      <td>8.5</td>\n",
       "      <td>107866.0</td>\n",
       "      <td>0.0</td>\n",
       "      <td>NaN</td>\n",
       "      <td>0.0</td>\n",
       "      <td>other</td>\n",
       "      <td>Short Term</td>\n",
       "      <td>129360.0</td>\n",
       "      <td>73492.0</td>\n",
       "      <td>1900.0</td>\n",
       "      <td>697.0</td>\n",
       "      <td>0</td>\n",
       "    </tr>\n",
       "    <tr>\n",
       "      <th>7496</th>\n",
       "      <td>Home Mortgage</td>\n",
       "      <td>1533984.0</td>\n",
       "      <td>1 year</td>\n",
       "      <td>0.0</td>\n",
       "      <td>10.0</td>\n",
       "      <td>26.5</td>\n",
       "      <td>686312.0</td>\n",
       "      <td>0.0</td>\n",
       "      <td>43.0</td>\n",
       "      <td>0.0</td>\n",
       "      <td>debt consolidation</td>\n",
       "      <td>Long Term</td>\n",
       "      <td>444048.0</td>\n",
       "      <td>456399.0</td>\n",
       "      <td>12783.0</td>\n",
       "      <td>7410.0</td>\n",
       "      <td>1</td>\n",
       "    </tr>\n",
       "    <tr>\n",
       "      <th>7497</th>\n",
       "      <td>Rent</td>\n",
       "      <td>1878910.0</td>\n",
       "      <td>6 years</td>\n",
       "      <td>0.0</td>\n",
       "      <td>12.0</td>\n",
       "      <td>32.1</td>\n",
       "      <td>1778920.0</td>\n",
       "      <td>0.0</td>\n",
       "      <td>NaN</td>\n",
       "      <td>0.0</td>\n",
       "      <td>buy a car</td>\n",
       "      <td>Short Term</td>\n",
       "      <td>99999999.0</td>\n",
       "      <td>477812.0</td>\n",
       "      <td>12479.0</td>\n",
       "      <td>748.0</td>\n",
       "      <td>0</td>\n",
       "    </tr>\n",
       "    <tr>\n",
       "      <th>7498</th>\n",
       "      <td>Home Mortgage</td>\n",
       "      <td>NaN</td>\n",
       "      <td>NaN</td>\n",
       "      <td>0.0</td>\n",
       "      <td>21.0</td>\n",
       "      <td>26.5</td>\n",
       "      <td>1141250.0</td>\n",
       "      <td>0.0</td>\n",
       "      <td>NaN</td>\n",
       "      <td>0.0</td>\n",
       "      <td>debt consolidation</td>\n",
       "      <td>Short Term</td>\n",
       "      <td>615274.0</td>\n",
       "      <td>476064.0</td>\n",
       "      <td>37118.0</td>\n",
       "      <td>NaN</td>\n",
       "      <td>0</td>\n",
       "    </tr>\n",
       "    <tr>\n",
       "      <th>7499</th>\n",
       "      <td>Rent</td>\n",
       "      <td>NaN</td>\n",
       "      <td>4 years</td>\n",
       "      <td>0.0</td>\n",
       "      <td>8.0</td>\n",
       "      <td>9.4</td>\n",
       "      <td>480832.0</td>\n",
       "      <td>0.0</td>\n",
       "      <td>NaN</td>\n",
       "      <td>0.0</td>\n",
       "      <td>debt consolidation</td>\n",
       "      <td>Short Term</td>\n",
       "      <td>26928.0</td>\n",
       "      <td>288192.0</td>\n",
       "      <td>9061.0</td>\n",
       "      <td>NaN</td>\n",
       "      <td>0</td>\n",
       "    </tr>\n",
       "  </tbody>\n",
       "</table>\n",
       "</div>"
      ],
      "text/plain": [
       "     Home Ownership  Annual Income Years in current job  Tax Liens  \\\n",
       "7495           Rent       402192.0             < 1 year        0.0   \n",
       "7496  Home Mortgage      1533984.0               1 year        0.0   \n",
       "7497           Rent      1878910.0              6 years        0.0   \n",
       "7498  Home Mortgage            NaN                  NaN        0.0   \n",
       "7499           Rent            NaN              4 years        0.0   \n",
       "\n",
       "      Number of Open Accounts  Years of Credit History  Maximum Open Credit  \\\n",
       "7495                      3.0                      8.5             107866.0   \n",
       "7496                     10.0                     26.5             686312.0   \n",
       "7497                     12.0                     32.1            1778920.0   \n",
       "7498                     21.0                     26.5            1141250.0   \n",
       "7499                      8.0                      9.4             480832.0   \n",
       "\n",
       "      Number of Credit Problems  Months since last delinquent  Bankruptcies  \\\n",
       "7495                        0.0                           NaN           0.0   \n",
       "7496                        0.0                          43.0           0.0   \n",
       "7497                        0.0                           NaN           0.0   \n",
       "7498                        0.0                           NaN           0.0   \n",
       "7499                        0.0                           NaN           0.0   \n",
       "\n",
       "                 Purpose        Term  Current Loan Amount  \\\n",
       "7495               other  Short Term             129360.0   \n",
       "7496  debt consolidation   Long Term             444048.0   \n",
       "7497           buy a car  Short Term           99999999.0   \n",
       "7498  debt consolidation  Short Term             615274.0   \n",
       "7499  debt consolidation  Short Term              26928.0   \n",
       "\n",
       "      Current Credit Balance  Monthly Debt  Credit Score  Credit Default  \n",
       "7495                 73492.0        1900.0         697.0               0  \n",
       "7496                456399.0       12783.0        7410.0               1  \n",
       "7497                477812.0       12479.0         748.0               0  \n",
       "7498                476064.0       37118.0           NaN               0  \n",
       "7499                288192.0        9061.0           NaN               0  "
      ]
     },
     "execution_count": 3,
     "metadata": {},
     "output_type": "execute_result"
    }
   ],
   "source": [
    "train_df = pd.read_csv(TRAIN_DATASET_PATH)\n",
    "train_df.tail()"
   ]
  },
  {
   "cell_type": "code",
   "execution_count": 4,
   "id": "c6d46b22",
   "metadata": {},
   "outputs": [
    {
     "data": {
      "text/html": [
       "<div>\n",
       "<style scoped>\n",
       "    .dataframe tbody tr th:only-of-type {\n",
       "        vertical-align: middle;\n",
       "    }\n",
       "\n",
       "    .dataframe tbody tr th {\n",
       "        vertical-align: top;\n",
       "    }\n",
       "\n",
       "    .dataframe thead th {\n",
       "        text-align: right;\n",
       "    }\n",
       "</style>\n",
       "<table border=\"1\" class=\"dataframe\">\n",
       "  <thead>\n",
       "    <tr style=\"text-align: right;\">\n",
       "      <th></th>\n",
       "      <th>Home Ownership</th>\n",
       "      <th>Annual Income</th>\n",
       "      <th>Years in current job</th>\n",
       "      <th>Tax Liens</th>\n",
       "      <th>Number of Open Accounts</th>\n",
       "      <th>Years of Credit History</th>\n",
       "      <th>Maximum Open Credit</th>\n",
       "      <th>Number of Credit Problems</th>\n",
       "      <th>Months since last delinquent</th>\n",
       "      <th>Bankruptcies</th>\n",
       "      <th>Purpose</th>\n",
       "      <th>Term</th>\n",
       "      <th>Current Loan Amount</th>\n",
       "      <th>Current Credit Balance</th>\n",
       "      <th>Monthly Debt</th>\n",
       "      <th>Credit Score</th>\n",
       "    </tr>\n",
       "  </thead>\n",
       "  <tbody>\n",
       "    <tr>\n",
       "      <th>2495</th>\n",
       "      <td>Home Mortgage</td>\n",
       "      <td>1020053.0</td>\n",
       "      <td>10+ years</td>\n",
       "      <td>0.0</td>\n",
       "      <td>14.0</td>\n",
       "      <td>29.1</td>\n",
       "      <td>559152.0</td>\n",
       "      <td>1.0</td>\n",
       "      <td>68.0</td>\n",
       "      <td>1.0</td>\n",
       "      <td>debt consolidation</td>\n",
       "      <td>Short Term</td>\n",
       "      <td>99999999.0</td>\n",
       "      <td>162735.0</td>\n",
       "      <td>15046.0</td>\n",
       "      <td>745.0</td>\n",
       "    </tr>\n",
       "    <tr>\n",
       "      <th>2496</th>\n",
       "      <td>Home Mortgage</td>\n",
       "      <td>NaN</td>\n",
       "      <td>2 years</td>\n",
       "      <td>0.0</td>\n",
       "      <td>15.0</td>\n",
       "      <td>17.0</td>\n",
       "      <td>1737780.0</td>\n",
       "      <td>0.0</td>\n",
       "      <td>77.0</td>\n",
       "      <td>0.0</td>\n",
       "      <td>debt consolidation</td>\n",
       "      <td>Short Term</td>\n",
       "      <td>468512.0</td>\n",
       "      <td>1439269.0</td>\n",
       "      <td>32996.0</td>\n",
       "      <td>NaN</td>\n",
       "    </tr>\n",
       "    <tr>\n",
       "      <th>2497</th>\n",
       "      <td>Home Mortgage</td>\n",
       "      <td>1171806.0</td>\n",
       "      <td>2 years</td>\n",
       "      <td>0.0</td>\n",
       "      <td>48.0</td>\n",
       "      <td>12.8</td>\n",
       "      <td>1706430.0</td>\n",
       "      <td>0.0</td>\n",
       "      <td>NaN</td>\n",
       "      <td>0.0</td>\n",
       "      <td>debt consolidation</td>\n",
       "      <td>Short Term</td>\n",
       "      <td>430496.0</td>\n",
       "      <td>676438.0</td>\n",
       "      <td>36912.0</td>\n",
       "      <td>695.0</td>\n",
       "    </tr>\n",
       "    <tr>\n",
       "      <th>2498</th>\n",
       "      <td>Rent</td>\n",
       "      <td>723520.0</td>\n",
       "      <td>10+ years</td>\n",
       "      <td>0.0</td>\n",
       "      <td>14.0</td>\n",
       "      <td>28.8</td>\n",
       "      <td>945780.0</td>\n",
       "      <td>0.0</td>\n",
       "      <td>NaN</td>\n",
       "      <td>0.0</td>\n",
       "      <td>debt consolidation</td>\n",
       "      <td>Short Term</td>\n",
       "      <td>257774.0</td>\n",
       "      <td>391248.0</td>\n",
       "      <td>13506.0</td>\n",
       "      <td>744.0</td>\n",
       "    </tr>\n",
       "    <tr>\n",
       "      <th>2499</th>\n",
       "      <td>Rent</td>\n",
       "      <td>1694439.0</td>\n",
       "      <td>10+ years</td>\n",
       "      <td>0.0</td>\n",
       "      <td>12.0</td>\n",
       "      <td>18.4</td>\n",
       "      <td>1199748.0</td>\n",
       "      <td>1.0</td>\n",
       "      <td>72.0</td>\n",
       "      <td>0.0</td>\n",
       "      <td>debt consolidation</td>\n",
       "      <td>Long Term</td>\n",
       "      <td>763004.0</td>\n",
       "      <td>559531.0</td>\n",
       "      <td>23440.0</td>\n",
       "      <td>6820.0</td>\n",
       "    </tr>\n",
       "  </tbody>\n",
       "</table>\n",
       "</div>"
      ],
      "text/plain": [
       "     Home Ownership  Annual Income Years in current job  Tax Liens  \\\n",
       "2495  Home Mortgage      1020053.0            10+ years        0.0   \n",
       "2496  Home Mortgage            NaN              2 years        0.0   \n",
       "2497  Home Mortgage      1171806.0              2 years        0.0   \n",
       "2498           Rent       723520.0            10+ years        0.0   \n",
       "2499           Rent      1694439.0            10+ years        0.0   \n",
       "\n",
       "      Number of Open Accounts  Years of Credit History  Maximum Open Credit  \\\n",
       "2495                     14.0                     29.1             559152.0   \n",
       "2496                     15.0                     17.0            1737780.0   \n",
       "2497                     48.0                     12.8            1706430.0   \n",
       "2498                     14.0                     28.8             945780.0   \n",
       "2499                     12.0                     18.4            1199748.0   \n",
       "\n",
       "      Number of Credit Problems  Months since last delinquent  Bankruptcies  \\\n",
       "2495                        1.0                          68.0           1.0   \n",
       "2496                        0.0                          77.0           0.0   \n",
       "2497                        0.0                           NaN           0.0   \n",
       "2498                        0.0                           NaN           0.0   \n",
       "2499                        1.0                          72.0           0.0   \n",
       "\n",
       "                 Purpose        Term  Current Loan Amount  \\\n",
       "2495  debt consolidation  Short Term           99999999.0   \n",
       "2496  debt consolidation  Short Term             468512.0   \n",
       "2497  debt consolidation  Short Term             430496.0   \n",
       "2498  debt consolidation  Short Term             257774.0   \n",
       "2499  debt consolidation   Long Term             763004.0   \n",
       "\n",
       "      Current Credit Balance  Monthly Debt  Credit Score  \n",
       "2495                162735.0       15046.0         745.0  \n",
       "2496               1439269.0       32996.0           NaN  \n",
       "2497                676438.0       36912.0         695.0  \n",
       "2498                391248.0       13506.0         744.0  \n",
       "2499                559531.0       23440.0        6820.0  "
      ]
     },
     "execution_count": 4,
     "metadata": {},
     "output_type": "execute_result"
    }
   ],
   "source": [
    "test_df = pd.read_csv(TEST_DATASET_PATH)\n",
    "test_df.tail()"
   ]
  },
  {
   "cell_type": "code",
   "execution_count": 5,
   "id": "47a1c24b",
   "metadata": {},
   "outputs": [
    {
     "name": "stdout",
     "output_type": "stream",
     "text": [
      "Строк в train: 7500\n",
      "Столбцов в train 17\n",
      "Строк в test 2500\n",
      "Столбцов в test 16\n"
     ]
    }
   ],
   "source": [
    "print('Строк в train:', train_df.shape[0])\n",
    "print('Столбцов в train', train_df.shape[1])\n",
    "print('Строк в test', test_df.shape[0])\n",
    "print('Столбцов в test', test_df.shape[1])"
   ]
  },
  {
   "cell_type": "markdown",
   "id": "3f0c1103",
   "metadata": {},
   "source": [
    "#### Оптимизация данных"
   ]
  },
  {
   "cell_type": "code",
   "execution_count": 6,
   "id": "e06bd2f4",
   "metadata": {},
   "outputs": [],
   "source": [
    "def reduce_mem_usage(df):\n",
    "    \"\"\" iterate through all the columns of a dataframe and modify the data type\n",
    "        to reduce memory usage.        \n",
    "    \"\"\"\n",
    "    df_copy = df.copy()\n",
    "    start_mem = df_copy.memory_usage().sum() / 1024**2\n",
    "    print('Memory usage of dataframe is {:.2f} MB'.format(start_mem))\n",
    "    \n",
    "    for col in df_copy.columns:\n",
    "        col_type = df_copy[col].dtype\n",
    "        \n",
    "        if col_type != object:\n",
    "            c_min = df[col].min()\n",
    "            c_max = df[col].max()\n",
    "            if str(col_type)[:3] == 'int':\n",
    "                if c_min > np.iinfo(np.int8).min and c_max < np.iinfo(np.int8).max:\n",
    "                    df_copy[col] = df_copy[col].astype(np.int8)\n",
    "                elif c_min > np.iinfo(np.int16).min and c_max < np.iinfo(np.int16).max:\n",
    "                    df_copy[col] = df_copy[col].astype(np.int16)\n",
    "                elif c_min > np.iinfo(np.int32).min and c_max < np.iinfo(np.int32).max:\n",
    "                    df_copy[col] = df_copy[col].astype(np.int32)\n",
    "                elif c_min > np.iinfo(np.int64).min and c_max < np.iinfo(np.int64).max:\n",
    "                    df_copy[col] = df_copy[col].astype(np.int64)  \n",
    "        else:\n",
    "            df_copy[col] = df_copy[col].astype('category')\n",
    "\n",
    "    end_mem = df_copy.memory_usage().sum() / 1024**2\n",
    "    print('Memory usage after optimization is: {:.2f} MB'.format(end_mem))\n",
    "    print('Decreased by {:.1f}%'.format(100 * (start_mem - end_mem) / start_mem))\n",
    "    \n",
    "    return df_copy"
   ]
  },
  {
   "cell_type": "code",
   "execution_count": 7,
   "id": "eaf753bc",
   "metadata": {},
   "outputs": [],
   "source": [
    "def hist(df, feature_name, bins_cont=30):\n",
    "    plt.figure(figsize=(16, 8))\n",
    "    plt.subplot(121)\n",
    "    train_df[feature_name].hist(bins=bins_cont)\n",
    "    plt.ylabel('count')\n",
    "    plt.xlabel(feature_name)\n",
    "\n",
    "    plt.title(f'{feature_name} destribution')\n",
    "    plt.show()\n",
    "    \n",
    "def create_out_feature(df, feature_name, condition, correct_value):\n",
    "    df[f'{feature_name}_outlier'] = 0\n",
    "    df.loc[condition, f'{feature_name}_outlier'] = 1\n",
    "    df.loc[condition, feature_name] = correct_value\n",
    "    return df\n",
    "\n",
    "def get_quantile_values(df, feature_name, q_1, q_2):\n",
    "    value_1 = train_df[feature_name].quantile(q=q_1)\n",
    "    value_2 = train_df[feature_name].quantile(q=q_2)   \n",
    "    return value_1, value_2"
   ]
  },
  {
   "cell_type": "code",
   "execution_count": 8,
   "id": "b899415d",
   "metadata": {},
   "outputs": [
    {
     "name": "stdout",
     "output_type": "stream",
     "text": [
      "Memory usage of dataframe is 0.97 MB\n",
      "Memory usage after optimization is: 0.72 MB\n",
      "Decreased by 25.6%\n"
     ]
    }
   ],
   "source": [
    "train_df = reduce_mem_usage(train_df)"
   ]
  },
  {
   "cell_type": "code",
   "execution_count": 9,
   "id": "8fd73056",
   "metadata": {},
   "outputs": [
    {
     "name": "stdout",
     "output_type": "stream",
     "text": [
      "Memory usage of dataframe is 0.31 MB\n",
      "Memory usage after optimization is: 0.24 MB\n",
      "Decreased by 21.4%\n"
     ]
    }
   ],
   "source": [
    "test_df = reduce_mem_usage(test_df)"
   ]
  },
  {
   "cell_type": "markdown",
   "id": "e97a10e6",
   "metadata": {},
   "source": [
    "#### Анализ данных"
   ]
  },
  {
   "cell_type": "markdown",
   "id": "15d57fd6",
   "metadata": {},
   "source": [
    "* Исправления выбросов\n",
    "* Заполнения NaN\n",
    "* Идей для генерации новых фич"
   ]
  },
  {
   "cell_type": "code",
   "execution_count": 10,
   "id": "e8221f36",
   "metadata": {},
   "outputs": [
    {
     "data": {
      "text/plain": [
       "Home Ownership                  category\n",
       "Annual Income                    float64\n",
       "Years in current job            category\n",
       "Tax Liens                        float64\n",
       "Number of Open Accounts          float64\n",
       "Years of Credit History          float64\n",
       "Maximum Open Credit              float64\n",
       "Number of Credit Problems        float64\n",
       "Months since last delinquent     float64\n",
       "Bankruptcies                     float64\n",
       "Purpose                         category\n",
       "Term                            category\n",
       "Current Loan Amount              float64\n",
       "Current Credit Balance           float64\n",
       "Monthly Debt                     float64\n",
       "Credit Score                     float64\n",
       "Credit Default                      int8\n",
       "dtype: object"
      ]
     },
     "execution_count": 10,
     "metadata": {},
     "output_type": "execute_result"
    }
   ],
   "source": [
    "train_df.dtypes"
   ]
  },
  {
   "cell_type": "markdown",
   "id": "79e3dee5",
   "metadata": {},
   "source": [
    "#### Анализ пропусков"
   ]
  },
  {
   "cell_type": "code",
   "execution_count": 11,
   "id": "bb460dce",
   "metadata": {},
   "outputs": [
    {
     "data": {
      "text/plain": [
       "Home Ownership                     0\n",
       "Annual Income                   1557\n",
       "Years in current job             371\n",
       "Tax Liens                          0\n",
       "Number of Open Accounts            0\n",
       "Years of Credit History            0\n",
       "Maximum Open Credit                0\n",
       "Number of Credit Problems          0\n",
       "Months since last delinquent    4081\n",
       "Bankruptcies                      14\n",
       "Purpose                            0\n",
       "Term                               0\n",
       "Current Loan Amount                0\n",
       "Current Credit Balance             0\n",
       "Monthly Debt                       0\n",
       "Credit Score                    1557\n",
       "Credit Default                     0\n",
       "dtype: int64"
      ]
     },
     "execution_count": 11,
     "metadata": {},
     "output_type": "execute_result"
    }
   ],
   "source": [
    "train_df.isna().sum()"
   ]
  },
  {
   "cell_type": "markdown",
   "id": "f2748374",
   "metadata": {},
   "source": [
    "#### Выведем матрицу корреляций, для того что бы увидеть всю картину целиком."
   ]
  },
  {
   "cell_type": "code",
   "execution_count": 12,
   "id": "deb2f162",
   "metadata": {},
   "outputs": [
    {
     "data": {
      "image/png": "[encoded data removed]",
      "text/plain": [
       "<Figure size 1080x720 with 2 Axes>"
      ]
     },
     "metadata": {
      "needs_background": "light"
     },
     "output_type": "display_data"
    }
   ],
   "source": [
    "plt.figure(figsize=(15, 10))\n",
    "\n",
    "sns.set(font_scale=1.4)\n",
    "\n",
    "corr_matrix = train_df.corr()\n",
    "corr_matrix = np.round(corr_matrix, 2)\n",
    "corr_matrix[np.abs(corr_matrix) < 0.3] = 0\n",
    "\n",
    "sns.heatmap(corr_matrix, annot=True, linewidths=.5, cmap='coolwarm')\n",
    "\n",
    "plt.title('Correlation matrix')\n",
    "plt.show()"
   ]
  },
  {
   "cell_type": "markdown",
   "id": "2d4eb9ed",
   "metadata": {},
   "source": [
    "#### Анализ целевой переменной \"Credit Default\""
   ]
  },
  {
   "cell_type": "code",
   "execution_count": 13,
   "id": "b5f0b977",
   "metadata": {},
   "outputs": [
    {
     "data": {
      "text/plain": [
       "0    5387\n",
       "1    2113\n",
       "Name: Credit Default, dtype: int64"
      ]
     },
     "execution_count": 13,
     "metadata": {},
     "output_type": "execute_result"
    }
   ],
   "source": [
    "target_name = 'Credit Default'\n",
    "train_df[target_name].value_counts()"
   ]
  },
  {
   "cell_type": "markdown",
   "id": "690faef1",
   "metadata": {},
   "source": [
    "**Вывод:** Наблюдается Дисбаланс классов."
   ]
  },
  {
   "cell_type": "markdown",
   "id": "03717241",
   "metadata": {},
   "source": [
    "#### Анализ вещественных признаков и обработка выбросов"
   ]
  },
  {
   "cell_type": "code",
   "execution_count": 14,
   "id": "c18b1e05",
   "metadata": {},
   "outputs": [
    {
     "data": {
      "text/html": [
       "<div>\n",
       "<style scoped>\n",
       "    .dataframe tbody tr th:only-of-type {\n",
       "        vertical-align: middle;\n",
       "    }\n",
       "\n",
       "    .dataframe tbody tr th {\n",
       "        vertical-align: top;\n",
       "    }\n",
       "\n",
       "    .dataframe thead th {\n",
       "        text-align: right;\n",
       "    }\n",
       "</style>\n",
       "<table border=\"1\" class=\"dataframe\">\n",
       "  <thead>\n",
       "    <tr style=\"text-align: right;\">\n",
       "      <th></th>\n",
       "      <th>Annual Income</th>\n",
       "      <th>Tax Liens</th>\n",
       "      <th>Number of Open Accounts</th>\n",
       "      <th>Years of Credit History</th>\n",
       "      <th>Maximum Open Credit</th>\n",
       "      <th>Number of Credit Problems</th>\n",
       "      <th>Months since last delinquent</th>\n",
       "      <th>Bankruptcies</th>\n",
       "      <th>Current Loan Amount</th>\n",
       "      <th>Current Credit Balance</th>\n",
       "      <th>Monthly Debt</th>\n",
       "      <th>Credit Score</th>\n",
       "      <th>Credit Default</th>\n",
       "    </tr>\n",
       "  </thead>\n",
       "  <tbody>\n",
       "    <tr>\n",
       "      <th>count</th>\n",
       "      <td>5.943000e+03</td>\n",
       "      <td>7500.000000</td>\n",
       "      <td>7500.000000</td>\n",
       "      <td>7500.000000</td>\n",
       "      <td>7.500000e+03</td>\n",
       "      <td>7500.000000</td>\n",
       "      <td>3419.000000</td>\n",
       "      <td>7486.000000</td>\n",
       "      <td>7.500000e+03</td>\n",
       "      <td>7.500000e+03</td>\n",
       "      <td>7500.000000</td>\n",
       "      <td>5943.000000</td>\n",
       "      <td>7500.000000</td>\n",
       "    </tr>\n",
       "    <tr>\n",
       "      <th>mean</th>\n",
       "      <td>1.366392e+06</td>\n",
       "      <td>0.030133</td>\n",
       "      <td>11.130933</td>\n",
       "      <td>18.317467</td>\n",
       "      <td>9.451537e+05</td>\n",
       "      <td>0.170000</td>\n",
       "      <td>34.692600</td>\n",
       "      <td>0.117152</td>\n",
       "      <td>1.187318e+07</td>\n",
       "      <td>2.898332e+05</td>\n",
       "      <td>18314.454133</td>\n",
       "      <td>1151.087498</td>\n",
       "      <td>0.281733</td>\n",
       "    </tr>\n",
       "    <tr>\n",
       "      <th>std</th>\n",
       "      <td>8.453392e+05</td>\n",
       "      <td>0.271604</td>\n",
       "      <td>4.908924</td>\n",
       "      <td>7.041946</td>\n",
       "      <td>1.602622e+07</td>\n",
       "      <td>0.498598</td>\n",
       "      <td>21.688806</td>\n",
       "      <td>0.347192</td>\n",
       "      <td>3.192612e+07</td>\n",
       "      <td>3.178714e+05</td>\n",
       "      <td>11926.764673</td>\n",
       "      <td>1604.451418</td>\n",
       "      <td>0.449874</td>\n",
       "    </tr>\n",
       "    <tr>\n",
       "      <th>min</th>\n",
       "      <td>1.645970e+05</td>\n",
       "      <td>0.000000</td>\n",
       "      <td>2.000000</td>\n",
       "      <td>4.000000</td>\n",
       "      <td>0.000000e+00</td>\n",
       "      <td>0.000000</td>\n",
       "      <td>0.000000</td>\n",
       "      <td>0.000000</td>\n",
       "      <td>1.124200e+04</td>\n",
       "      <td>0.000000e+00</td>\n",
       "      <td>0.000000</td>\n",
       "      <td>585.000000</td>\n",
       "      <td>0.000000</td>\n",
       "    </tr>\n",
       "    <tr>\n",
       "      <th>25%</th>\n",
       "      <td>8.443410e+05</td>\n",
       "      <td>0.000000</td>\n",
       "      <td>8.000000</td>\n",
       "      <td>13.500000</td>\n",
       "      <td>2.792295e+05</td>\n",
       "      <td>0.000000</td>\n",
       "      <td>16.000000</td>\n",
       "      <td>0.000000</td>\n",
       "      <td>1.801690e+05</td>\n",
       "      <td>1.142565e+05</td>\n",
       "      <td>10067.500000</td>\n",
       "      <td>711.000000</td>\n",
       "      <td>0.000000</td>\n",
       "    </tr>\n",
       "    <tr>\n",
       "      <th>50%</th>\n",
       "      <td>1.168386e+06</td>\n",
       "      <td>0.000000</td>\n",
       "      <td>10.000000</td>\n",
       "      <td>17.000000</td>\n",
       "      <td>4.781590e+05</td>\n",
       "      <td>0.000000</td>\n",
       "      <td>32.000000</td>\n",
       "      <td>0.000000</td>\n",
       "      <td>3.095730e+05</td>\n",
       "      <td>2.093230e+05</td>\n",
       "      <td>16076.500000</td>\n",
       "      <td>731.000000</td>\n",
       "      <td>0.000000</td>\n",
       "    </tr>\n",
       "    <tr>\n",
       "      <th>75%</th>\n",
       "      <td>1.640137e+06</td>\n",
       "      <td>0.000000</td>\n",
       "      <td>14.000000</td>\n",
       "      <td>21.800000</td>\n",
       "      <td>7.935015e+05</td>\n",
       "      <td>0.000000</td>\n",
       "      <td>50.000000</td>\n",
       "      <td>0.000000</td>\n",
       "      <td>5.198820e+05</td>\n",
       "      <td>3.604062e+05</td>\n",
       "      <td>23818.000000</td>\n",
       "      <td>743.000000</td>\n",
       "      <td>1.000000</td>\n",
       "    </tr>\n",
       "    <tr>\n",
       "      <th>max</th>\n",
       "      <td>1.014934e+07</td>\n",
       "      <td>7.000000</td>\n",
       "      <td>43.000000</td>\n",
       "      <td>57.700000</td>\n",
       "      <td>1.304726e+09</td>\n",
       "      <td>7.000000</td>\n",
       "      <td>118.000000</td>\n",
       "      <td>4.000000</td>\n",
       "      <td>1.000000e+08</td>\n",
       "      <td>6.506797e+06</td>\n",
       "      <td>136679.000000</td>\n",
       "      <td>7510.000000</td>\n",
       "      <td>1.000000</td>\n",
       "    </tr>\n",
       "  </tbody>\n",
       "</table>\n",
       "</div>"
      ],
      "text/plain": [
       "       Annual Income    Tax Liens  Number of Open Accounts  \\\n",
       "count   5.943000e+03  7500.000000              7500.000000   \n",
       "mean    1.366392e+06     0.030133                11.130933   \n",
       "std     8.453392e+05     0.271604                 4.908924   \n",
       "min     1.645970e+05     0.000000                 2.000000   \n",
       "25%     8.443410e+05     0.000000                 8.000000   \n",
       "50%     1.168386e+06     0.000000                10.000000   \n",
       "75%     1.640137e+06     0.000000                14.000000   \n",
       "max     1.014934e+07     7.000000                43.000000   \n",
       "\n",
       "       Years of Credit History  Maximum Open Credit  \\\n",
       "count              7500.000000         7.500000e+03   \n",
       "mean                 18.317467         9.451537e+05   \n",
       "std                   7.041946         1.602622e+07   \n",
       "min                   4.000000         0.000000e+00   \n",
       "25%                  13.500000         2.792295e+05   \n",
       "50%                  17.000000         4.781590e+05   \n",
       "75%                  21.800000         7.935015e+05   \n",
       "max                  57.700000         1.304726e+09   \n",
       "\n",
       "       Number of Credit Problems  Months since last delinquent  Bankruptcies  \\\n",
       "count                7500.000000                   3419.000000   7486.000000   \n",
       "mean                    0.170000                     34.692600      0.117152   \n",
       "std                     0.498598                     21.688806      0.347192   \n",
       "min                     0.000000                      0.000000      0.000000   \n",
       "25%                     0.000000                     16.000000      0.000000   \n",
       "50%                     0.000000                     32.000000      0.000000   \n",
       "75%                     0.000000                     50.000000      0.000000   \n",
       "max                     7.000000                    118.000000      4.000000   \n",
       "\n",
       "       Current Loan Amount  Current Credit Balance   Monthly Debt  \\\n",
       "count         7.500000e+03            7.500000e+03    7500.000000   \n",
       "mean          1.187318e+07            2.898332e+05   18314.454133   \n",
       "std           3.192612e+07            3.178714e+05   11926.764673   \n",
       "min           1.124200e+04            0.000000e+00       0.000000   \n",
       "25%           1.801690e+05            1.142565e+05   10067.500000   \n",
       "50%           3.095730e+05            2.093230e+05   16076.500000   \n",
       "75%           5.198820e+05            3.604062e+05   23818.000000   \n",
       "max           1.000000e+08            6.506797e+06  136679.000000   \n",
       "\n",
       "       Credit Score  Credit Default  \n",
       "count   5943.000000     7500.000000  \n",
       "mean    1151.087498        0.281733  \n",
       "std     1604.451418        0.449874  \n",
       "min      585.000000        0.000000  \n",
       "25%      711.000000        0.000000  \n",
       "50%      731.000000        0.000000  \n",
       "75%      743.000000        1.000000  \n",
       "max     7510.000000        1.000000  "
      ]
     },
     "execution_count": 14,
     "metadata": {},
     "output_type": "execute_result"
    }
   ],
   "source": [
    "train_df.describe()"
   ]
  },
  {
   "cell_type": "markdown",
   "id": "45e57d91",
   "metadata": {},
   "source": [
    "#### Анализ Annual Income"
   ]
  },
  {
   "cell_type": "code",
   "execution_count": 15,
   "id": "a0bcbb8d",
   "metadata": {},
   "outputs": [
    {
     "data": {
      "image/png": "[encoded data removed]",
      "text/plain": [
       "<Figure size 1152x576 with 1 Axes>"
      ]
     },
     "metadata": {},
     "output_type": "display_data"
    }
   ],
   "source": [
    "hist(train_df, 'Annual Income')"
   ]
  },
  {
   "cell_type": "code",
   "execution_count": 16,
   "id": "256065d9",
   "metadata": {},
   "outputs": [
    {
     "data": {
      "text/plain": [
       "(447499.4, 3444213.5999999996)"
      ]
     },
     "execution_count": 16,
     "metadata": {},
     "output_type": "execute_result"
    }
   ],
   "source": [
    "min_value, max_value = get_quantile_values(train_df, 'Annual Income', 0.025, 0.975)\n",
    "min_value, max_value"
   ]
  },
  {
   "cell_type": "code",
   "execution_count": 17,
   "id": "b31846e3",
   "metadata": {},
   "outputs": [],
   "source": [
    "animan_income_condition = (train_df['Annual Income'] < min_value) | (train_df['Annual Income'] > max_value)\n",
    "train_df = create_out_feature(train_df, 'Annual Income', animan_income_condition, train_df['Annual Income'].median())"
   ]
  },
  {
   "cell_type": "code",
   "execution_count": 18,
   "id": "8115a18b",
   "metadata": {},
   "outputs": [],
   "source": [
    "# Восстановление Annual Income\n",
    "train_df['Annual Income_nan'] = train_df['Annual Income'].isna() * 1\n",
    "train_df_condition_isna = (train_df['Annual Income'].isna())\n",
    "        \n",
    "train_df.loc[train_df_condition_isna, 'Annual Income'] = train_df['Annual Income'].median()"
   ]
  },
  {
   "cell_type": "code",
   "execution_count": 19,
   "id": "86499f19",
   "metadata": {},
   "outputs": [
    {
     "data": {
      "image/png": "[encoded data removed]",
      "text/plain": [
       "<Figure size 1152x576 with 1 Axes>"
      ]
     },
     "metadata": {},
     "output_type": "display_data"
    }
   ],
   "source": [
    "hist(train_df, 'Annual Income')"
   ]
  },
  {
   "cell_type": "markdown",
   "id": "4d0d4958",
   "metadata": {},
   "source": [
    "#### Анализ Tax Liens"
   ]
  },
  {
   "cell_type": "code",
   "execution_count": 20,
   "id": "35777480",
   "metadata": {},
   "outputs": [
    {
     "data": {
      "text/plain": [
       "array([0., 3., 1., 2., 4., 6., 5., 7.])"
      ]
     },
     "execution_count": 20,
     "metadata": {},
     "output_type": "execute_result"
    }
   ],
   "source": [
    "train_df['Tax Liens'].unique()"
   ]
  },
  {
   "cell_type": "markdown",
   "id": "ef3da54b",
   "metadata": {},
   "source": [
    "**Вывод:** Ничего не делаем с этим признаком."
   ]
  },
  {
   "cell_type": "markdown",
   "id": "2cb2406a",
   "metadata": {},
   "source": [
    "#### Анализ Number of Open Accounts"
   ]
  },
  {
   "cell_type": "code",
   "execution_count": 21,
   "id": "8688ca01",
   "metadata": {},
   "outputs": [
    {
     "data": {
      "image/png": "[encoded data removed]",
      "text/plain": [
       "<Figure size 1152x576 with 1 Axes>"
      ]
     },
     "metadata": {},
     "output_type": "display_data"
    }
   ],
   "source": [
    "hist(train_df, 'Number of Open Accounts')"
   ]
  },
  {
   "cell_type": "code",
   "execution_count": 22,
   "id": "06bf8f93",
   "metadata": {},
   "outputs": [
    {
     "data": {
      "text/plain": [
       "(4.0, 23.0)"
      ]
     },
     "execution_count": 22,
     "metadata": {},
     "output_type": "execute_result"
    }
   ],
   "source": [
    "min_value, max_value = get_quantile_values(train_df, 'Number of Open Accounts', 0.025, 0.975)\n",
    "min_value, max_value"
   ]
  },
  {
   "cell_type": "code",
   "execution_count": 23,
   "id": "6890d964",
   "metadata": {},
   "outputs": [],
   "source": [
    "number_of_open_accounts_condition = (train_df['Number of Open Accounts'] < min_value) | (train_df['Number of Open Accounts'] > max_value)\n",
    "train_df = create_out_feature(train_df, 'Number of Open Accounts', number_of_open_accounts_condition, train_df['Number of Open Accounts'].median())"
   ]
  },
  {
   "cell_type": "code",
   "execution_count": 24,
   "id": "f10b8818",
   "metadata": {},
   "outputs": [
    {
     "data": {
      "image/png": "[encoded data removed]",
      "text/plain": [
       "<Figure size 1152x576 with 1 Axes>"
      ]
     },
     "metadata": {},
     "output_type": "display_data"
    }
   ],
   "source": [
    "hist(train_df, 'Number of Open Accounts')"
   ]
  },
  {
   "cell_type": "markdown",
   "id": "f1a14d07",
   "metadata": {},
   "source": [
    "#### Анализ Years of Credit History "
   ]
  },
  {
   "cell_type": "code",
   "execution_count": 25,
   "id": "6333745e",
   "metadata": {},
   "outputs": [
    {
     "data": {
      "image/png": "[encoded data removed]",
      "text/plain": [
       "<Figure size 1152x576 with 1 Axes>"
      ]
     },
     "metadata": {},
     "output_type": "display_data"
    }
   ],
   "source": [
    "hist(train_df, 'Years of Credit History')"
   ]
  },
  {
   "cell_type": "code",
   "execution_count": 26,
   "id": "2ad87449",
   "metadata": {},
   "outputs": [
    {
     "data": {
      "text/plain": [
       "(8.0, 35.2)"
      ]
     },
     "execution_count": 26,
     "metadata": {},
     "output_type": "execute_result"
    }
   ],
   "source": [
    "min_value, max_value = get_quantile_values(train_df, 'Years of Credit History', 0.025, 0.975)\n",
    "min_value, max_value"
   ]
  },
  {
   "cell_type": "code",
   "execution_count": 27,
   "id": "d8b1ac45",
   "metadata": {},
   "outputs": [],
   "source": [
    "years_of_credit_history_condition = (train_df['Years of Credit History'] < min_value) | (train_df['Years of Credit History'] > max_value)\n",
    "train_df = create_out_feature(train_df, 'Years of Credit History', years_of_credit_history_condition, train_df['Years of Credit History'].median())"
   ]
  },
  {
   "cell_type": "code",
   "execution_count": 28,
   "id": "3823ad24",
   "metadata": {},
   "outputs": [
    {
     "data": {
      "image/png": "[encoded data removed]",
      "text/plain": [
       "<Figure size 1152x576 with 1 Axes>"
      ]
     },
     "metadata": {},
     "output_type": "display_data"
    }
   ],
   "source": [
    "hist(train_df, 'Years of Credit History')"
   ]
  },
  {
   "cell_type": "markdown",
   "id": "b72de22e",
   "metadata": {},
   "source": [
    "#### Анализ Maximum Open Credit"
   ]
  },
  {
   "cell_type": "code",
   "execution_count": 29,
   "id": "cb485380",
   "metadata": {},
   "outputs": [
    {
     "data": {
      "text/plain": [
       "0.0         65\n",
       "319110.0     5\n",
       "246224.0     3\n",
       "344058.0     3\n",
       "513524.0     3\n",
       "            ..\n",
       "668360.0     1\n",
       "642224.0     1\n",
       "779372.0     1\n",
       "372812.0     1\n",
       "480832.0     1\n",
       "Name: Maximum Open Credit, Length: 6963, dtype: int64"
      ]
     },
     "execution_count": 29,
     "metadata": {},
     "output_type": "execute_result"
    }
   ],
   "source": [
    "train_df['Maximum Open Credit'].value_counts()"
   ]
  },
  {
   "cell_type": "markdown",
   "id": "a3662fc1",
   "metadata": {},
   "source": [
    "**Вывод:** Все ок"
   ]
  },
  {
   "cell_type": "markdown",
   "id": "2ece5102",
   "metadata": {},
   "source": [
    "#### Анализ Number of Credit Problems"
   ]
  },
  {
   "cell_type": "code",
   "execution_count": 30,
   "id": "85f3a364",
   "metadata": {},
   "outputs": [
    {
     "data": {
      "text/plain": [
       "0.0    6469\n",
       "1.0     882\n",
       "2.0      93\n",
       "3.0      35\n",
       "4.0       9\n",
       "5.0       7\n",
       "6.0       4\n",
       "7.0       1\n",
       "Name: Number of Credit Problems, dtype: int64"
      ]
     },
     "execution_count": 30,
     "metadata": {},
     "output_type": "execute_result"
    }
   ],
   "source": [
    "train_df['Number of Credit Problems'].value_counts()"
   ]
  },
  {
   "cell_type": "markdown",
   "id": "9b1905cb",
   "metadata": {},
   "source": [
    "**Вывод**: Все ок, ничего подозрительного не обнаружено"
   ]
  },
  {
   "cell_type": "markdown",
   "id": "1554ede3",
   "metadata": {},
   "source": [
    "#### Анализ Months since last delinquent"
   ]
  },
  {
   "cell_type": "code",
   "execution_count": 31,
   "id": "115cef35",
   "metadata": {},
   "outputs": [
    {
     "data": {
      "image/png": "[encoded data removed]",
      "text/plain": [
       "<Figure size 1152x576 with 1 Axes>"
      ]
     },
     "metadata": {},
     "output_type": "display_data"
    }
   ],
   "source": [
    "hist(train_df, 'Months since last delinquent')"
   ]
  },
  {
   "cell_type": "code",
   "execution_count": 32,
   "id": "fd946a13",
   "metadata": {},
   "outputs": [
    {
     "data": {
      "text/plain": [
       "(3.0, 78.0)"
      ]
     },
     "execution_count": 32,
     "metadata": {},
     "output_type": "execute_result"
    }
   ],
   "source": [
    "min_value, max_value = get_quantile_values(train_df, 'Months since last delinquent', 0.025, 0.975)\n",
    "min_value, max_value"
   ]
  },
  {
   "cell_type": "code",
   "execution_count": 33,
   "id": "88dc2886",
   "metadata": {},
   "outputs": [],
   "source": [
    "months_since_last_delinquent_condition = (train_df['Months since last delinquent'] < min_value) | (train_df['Months since last delinquent'] > max_value)\n",
    "train_df = create_out_feature(train_df, 'Months since last delinquent', months_since_last_delinquent_condition, train_df['Months since last delinquent'].median())"
   ]
  },
  {
   "cell_type": "code",
   "execution_count": 34,
   "id": "20d0b952",
   "metadata": {},
   "outputs": [],
   "source": [
    "# Восстановление Months since last delinquent\n",
    "train_df['Months since last delinquent_nan'] = train_df['Months since last delinquent'].isna() * 1\n",
    "mode = train_df['Months since last delinquent'].mode()\n",
    "train_df['Months since last delinquent'] =  train_df['Months since last delinquent'].fillna(mode)"
   ]
  },
  {
   "cell_type": "code",
   "execution_count": 35,
   "id": "39653050",
   "metadata": {},
   "outputs": [
    {
     "data": {
      "image/png": "[encoded data removed]",
      "text/plain": [
       "<Figure size 1152x576 with 1 Axes>"
      ]
     },
     "metadata": {},
     "output_type": "display_data"
    }
   ],
   "source": [
    "hist(train_df, 'Months since last delinquent')"
   ]
  },
  {
   "cell_type": "markdown",
   "id": "de1d9cc7",
   "metadata": {},
   "source": [
    "#### Анализ Bankruptcies"
   ]
  },
  {
   "cell_type": "code",
   "execution_count": 177,
   "id": "6c754411",
   "metadata": {},
   "outputs": [
    {
     "data": {
      "text/html": [
       "<div>\n",
       "<style scoped>\n",
       "    .dataframe tbody tr th:only-of-type {\n",
       "        vertical-align: middle;\n",
       "    }\n",
       "\n",
       "    .dataframe tbody tr th {\n",
       "        vertical-align: top;\n",
       "    }\n",
       "\n",
       "    .dataframe thead th {\n",
       "        text-align: right;\n",
       "    }\n",
       "</style>\n",
       "<table border=\"1\" class=\"dataframe\">\n",
       "  <thead>\n",
       "    <tr style=\"text-align: right;\">\n",
       "      <th></th>\n",
       "      <th>Bankruptcies</th>\n",
       "      <th>Number of Credit Problems</th>\n",
       "    </tr>\n",
       "  </thead>\n",
       "  <tbody>\n",
       "    <tr>\n",
       "      <th>0</th>\n",
       "      <td>1.0</td>\n",
       "      <td>1.0</td>\n",
       "    </tr>\n",
       "    <tr>\n",
       "      <th>1</th>\n",
       "      <td>0.0</td>\n",
       "      <td>0.0</td>\n",
       "    </tr>\n",
       "    <tr>\n",
       "      <th>2</th>\n",
       "      <td>0.0</td>\n",
       "      <td>0.0</td>\n",
       "    </tr>\n",
       "    <tr>\n",
       "      <th>3</th>\n",
       "      <td>1.0</td>\n",
       "      <td>1.0</td>\n",
       "    </tr>\n",
       "    <tr>\n",
       "      <th>4</th>\n",
       "      <td>0.0</td>\n",
       "      <td>1.0</td>\n",
       "    </tr>\n",
       "  </tbody>\n",
       "</table>\n",
       "</div>"
      ],
      "text/plain": [
       "   Bankruptcies  Number of Credit Problems\n",
       "0           1.0                        1.0\n",
       "1           0.0                        0.0\n",
       "2           0.0                        0.0\n",
       "3           1.0                        1.0\n",
       "4           0.0                        1.0"
      ]
     },
     "execution_count": 177,
     "metadata": {},
     "output_type": "execute_result"
    }
   ],
   "source": [
    "train_df[['Bankruptcies', 'Number of Credit Problems']].head()"
   ]
  },
  {
   "cell_type": "code",
   "execution_count": 36,
   "id": "7000a9b0",
   "metadata": {},
   "outputs": [
    {
     "data": {
      "text/plain": [
       "0.0    6660\n",
       "1.0     786\n",
       "2.0      31\n",
       "3.0       7\n",
       "4.0       2\n",
       "Name: Bankruptcies, dtype: int64"
      ]
     },
     "execution_count": 36,
     "metadata": {},
     "output_type": "execute_result"
    }
   ],
   "source": [
    "train_df['Bankruptcies'].value_counts()"
   ]
  },
  {
   "cell_type": "code",
   "execution_count": 37,
   "id": "4d3ec9b7",
   "metadata": {},
   "outputs": [
    {
     "data": {
      "text/plain": [
       "False    7486\n",
       "True       14\n",
       "Name: Bankruptcies, dtype: int64"
      ]
     },
     "execution_count": 37,
     "metadata": {},
     "output_type": "execute_result"
    }
   ],
   "source": [
    "train_df['Bankruptcies'].isnull().value_counts()"
   ]
  },
  {
   "cell_type": "code",
   "execution_count": 179,
   "id": "77d54538",
   "metadata": {},
   "outputs": [
    {
     "data": {
      "text/plain": [
       "False    7500\n",
       "Name: Bankruptcies, dtype: int64"
      ]
     },
     "execution_count": 179,
     "metadata": {},
     "output_type": "execute_result"
    }
   ],
   "source": [
    "train_df['Bankruptcies'].isnull().value_counts()"
   ]
  },
  {
   "cell_type": "markdown",
   "id": "866caeb7",
   "metadata": {},
   "source": [
    "#### Анализ Current Loan Amount "
   ]
  },
  {
   "cell_type": "code",
   "execution_count": 40,
   "id": "6a15876d",
   "metadata": {},
   "outputs": [
    {
     "data": {
      "text/plain": [
       "99999999.0    870\n",
       "218064.0        6\n",
       "89298.0         6\n",
       "222926.0        5\n",
       "265826.0        5\n",
       "             ... \n",
       "351626.0        1\n",
       "212498.0        1\n",
       "187682.0        1\n",
       "108922.0        1\n",
       "26928.0         1\n",
       "Name: Current Loan Amount, Length: 5386, dtype: int64"
      ]
     },
     "execution_count": 40,
     "metadata": {},
     "output_type": "execute_result"
    }
   ],
   "source": [
    "train_df['Current Loan Amount'].value_counts()"
   ]
  },
  {
   "cell_type": "markdown",
   "id": "630840c8",
   "metadata": {},
   "source": [
    "**Вывод:**  С виду все ок"
   ]
  },
  {
   "cell_type": "markdown",
   "id": "1c5d83b3",
   "metadata": {},
   "source": [
    "#### Анализ Current Credit Balance"
   ]
  },
  {
   "cell_type": "code",
   "execution_count": 41,
   "id": "92927b45",
   "metadata": {},
   "outputs": [
    {
     "data": {
      "text/plain": [
       "0.0         53\n",
       "191710.0     5\n",
       "106818.0     4\n",
       "83638.0      4\n",
       "136401.0     4\n",
       "            ..\n",
       "445360.0     1\n",
       "243371.0     1\n",
       "25688.0      1\n",
       "62054.0      1\n",
       "288192.0     1\n",
       "Name: Current Credit Balance, Length: 6592, dtype: int64"
      ]
     },
     "execution_count": 41,
     "metadata": {},
     "output_type": "execute_result"
    }
   ],
   "source": [
    "train_df['Current Credit Balance'].value_counts()"
   ]
  },
  {
   "cell_type": "markdown",
   "id": "a81272e6",
   "metadata": {},
   "source": [
    "Вывод: Все ок, выбросов нет"
   ]
  },
  {
   "cell_type": "markdown",
   "id": "70bdf656",
   "metadata": {},
   "source": [
    "#### Анализ Monthly Debt "
   ]
  },
  {
   "cell_type": "code",
   "execution_count": 42,
   "id": "ebfa5aa5",
   "metadata": {},
   "outputs": [
    {
     "data": {
      "image/png": "[encoded data removed]",
      "text/plain": [
       "<Figure size 1152x576 with 1 Axes>"
      ]
     },
     "metadata": {},
     "output_type": "display_data"
    }
   ],
   "source": [
    "hist(train_df, 'Monthly Debt')"
   ]
  },
  {
   "cell_type": "code",
   "execution_count": 43,
   "id": "068c0114",
   "metadata": {},
   "outputs": [
    {
     "data": {
      "text/plain": [
       "(2433.95, 47950.149999999965)"
      ]
     },
     "execution_count": 43,
     "metadata": {},
     "output_type": "execute_result"
    }
   ],
   "source": [
    "min_value, max_value = get_quantile_values(train_df, 'Monthly Debt', 0.025, 0.975)\n",
    "min_value, max_value"
   ]
  },
  {
   "cell_type": "code",
   "execution_count": 44,
   "id": "36db3707",
   "metadata": {},
   "outputs": [],
   "source": [
    "monthly_debt_condition = (train_df['Monthly Debt'] < min_value) | (train_df['Monthly Debt'] > max_value)\n",
    "train_df = create_out_feature(train_df, 'Monthly Debt', monthly_debt_condition, train_df['Monthly Debt'].median())"
   ]
  },
  {
   "cell_type": "code",
   "execution_count": 45,
   "id": "f45646f0",
   "metadata": {},
   "outputs": [
    {
     "data": {
      "image/png": "[encoded data removed]",
      "text/plain": [
       "<Figure size 1152x576 with 1 Axes>"
      ]
     },
     "metadata": {},
     "output_type": "display_data"
    }
   ],
   "source": [
    "hist(train_df, 'Monthly Debt')"
   ]
  },
  {
   "cell_type": "markdown",
   "id": "86c1f627",
   "metadata": {},
   "source": [
    "#### Анализ Credit Score"
   ]
  },
  {
   "cell_type": "code",
   "execution_count": 46,
   "id": "bdc79cfb",
   "metadata": {},
   "outputs": [
    {
     "data": {
      "image/png": "[encoded data removed]",
      "text/plain": [
       "<Figure size 1152x576 with 1 Axes>"
      ]
     },
     "metadata": {},
     "output_type": "display_data"
    }
   ],
   "source": [
    "hist(train_df, 'Credit Score', 4)"
   ]
  },
  {
   "cell_type": "markdown",
   "id": "4002f42b",
   "metadata": {},
   "source": [
    "Нужо будет перевести в бинарный признак"
   ]
  },
  {
   "cell_type": "code",
   "execution_count": 47,
   "id": "ffd45fe5",
   "metadata": {},
   "outputs": [
    {
     "data": {
      "text/plain": [
       "False    5943\n",
       "True     1557\n",
       "Name: Credit Score, dtype: int64"
      ]
     },
     "execution_count": 47,
     "metadata": {},
     "output_type": "execute_result"
    }
   ],
   "source": [
    "train_df['Credit Score'].isna().value_counts()"
   ]
  },
  {
   "cell_type": "code",
   "execution_count": 48,
   "id": "5cd170a7",
   "metadata": {},
   "outputs": [],
   "source": [
    "train_df['Credit Score'] = train_df['Credit Score'].fillna(train_df['Credit Score'].mean())"
   ]
  },
  {
   "cell_type": "code",
   "execution_count": 49,
   "id": "ff6e14c1",
   "metadata": {},
   "outputs": [
    {
     "data": {
      "text/plain": [
       "False    7500\n",
       "Name: Credit Score, dtype: int64"
      ]
     },
     "execution_count": 49,
     "metadata": {},
     "output_type": "execute_result"
    }
   ],
   "source": [
    "train_df['Credit Score'].isna().value_counts()"
   ]
  },
  {
   "cell_type": "code",
   "execution_count": 50,
   "id": "bd4a2571",
   "metadata": {},
   "outputs": [],
   "source": [
    "class_0_condition = train_df['Credit Score'] < 4000\n",
    "class_1_condition = train_df['Credit Score'] >= 4000\n",
    "train_df.loc[class_0_condition, 'Credit Score'] = 0\n",
    "train_df.loc[class_1_condition, 'Credit Score'] = 1"
   ]
  },
  {
   "cell_type": "code",
   "execution_count": 51,
   "id": "da97f3af",
   "metadata": {},
   "outputs": [
    {
     "data": {
      "image/png": "[encoded data removed]",
      "text/plain": [
       "<Figure size 1152x576 with 1 Axes>"
      ]
     },
     "metadata": {},
     "output_type": "display_data"
    },
    {
     "data": {
      "text/plain": [
       "0.0    7100\n",
       "1.0     400\n",
       "Name: Credit Score, dtype: int64"
      ]
     },
     "execution_count": 51,
     "metadata": {},
     "output_type": "execute_result"
    }
   ],
   "source": [
    "hist(train_df, 'Credit Score', 4)\n",
    "train_df['Credit Score'].value_counts()"
   ]
  },
  {
   "cell_type": "markdown",
   "id": "be3496a3",
   "metadata": {},
   "source": [
    "#### Анализ и обработка категориальных признаков"
   ]
  },
  {
   "cell_type": "markdown",
   "id": "1d8718ae",
   "metadata": {},
   "source": [
    "#### Анализ Home Ownership"
   ]
  },
  {
   "cell_type": "code",
   "execution_count": 52,
   "id": "1a231d58",
   "metadata": {},
   "outputs": [
    {
     "data": {
      "text/plain": [
       "Home Mortgage    3637\n",
       "Rent             3204\n",
       "Own Home          647\n",
       "Have Mortgage      12\n",
       "Name: Home Ownership, dtype: int64"
      ]
     },
     "execution_count": 52,
     "metadata": {},
     "output_type": "execute_result"
    }
   ],
   "source": [
    "train_df['Home Ownership'].value_counts()"
   ]
  },
  {
   "cell_type": "markdown",
   "id": "7d0afe0b",
   "metadata": {},
   "source": [
    "Home Mortgage и Have Mortgage означает одно и тоже."
   ]
  },
  {
   "cell_type": "code",
   "execution_count": 53,
   "id": "2d6c1e8a",
   "metadata": {},
   "outputs": [],
   "source": [
    "train_df.loc[train_df['Home Ownership'] == 'Have Mortgage', 'Home Ownership'] = 'Home Mortgage'"
   ]
  },
  {
   "cell_type": "code",
   "execution_count": 54,
   "id": "ba8a4dcf",
   "metadata": {},
   "outputs": [
    {
     "data": {
      "text/plain": [
       "Home Mortgage    3649\n",
       "Rent             3204\n",
       "Own Home          647\n",
       "Have Mortgage       0\n",
       "Name: Home Ownership, dtype: int64"
      ]
     },
     "execution_count": 54,
     "metadata": {},
     "output_type": "execute_result"
    }
   ],
   "source": [
    "train_df['Home Ownership'].value_counts()"
   ]
  },
  {
   "cell_type": "markdown",
   "id": "08ef5197",
   "metadata": {},
   "source": [
    "Позже пеерведу в Дамми"
   ]
  },
  {
   "cell_type": "markdown",
   "id": "fef58eaf",
   "metadata": {},
   "source": [
    "#### Анализ Years in current job "
   ]
  },
  {
   "cell_type": "code",
   "execution_count": 55,
   "id": "f1008016",
   "metadata": {},
   "outputs": [
    {
     "data": {
      "text/plain": [
       "10+ years    2332\n",
       "2 years       705\n",
       "3 years       620\n",
       "< 1 year      563\n",
       "5 years       516\n",
       "1 year        504\n",
       "4 years       469\n",
       "6 years       426\n",
       "7 years       396\n",
       "8 years       339\n",
       "9 years       259\n",
       "Name: Years in current job, dtype: int64"
      ]
     },
     "execution_count": 55,
     "metadata": {},
     "output_type": "execute_result"
    }
   ],
   "source": [
    "train_df['Years in current job'].value_counts()"
   ]
  },
  {
   "cell_type": "code",
   "execution_count": 56,
   "id": "6b231f33",
   "metadata": {},
   "outputs": [
    {
     "data": {
      "text/plain": [
       "False    7129\n",
       "True      371\n",
       "Name: Years in current job, dtype: int64"
      ]
     },
     "execution_count": 56,
     "metadata": {},
     "output_type": "execute_result"
    }
   ],
   "source": [
    "train_df['Years in current job'].isna().value_counts()"
   ]
  },
  {
   "cell_type": "code",
   "execution_count": 57,
   "id": "85c3082b",
   "metadata": {},
   "outputs": [],
   "source": [
    "mode = train_df['Years in current job'].mode()[0]\n",
    "train_df['Years in current job'] = train_df['Years in current job'].fillna(mode)"
   ]
  },
  {
   "cell_type": "code",
   "execution_count": 58,
   "id": "df5f44a3",
   "metadata": {},
   "outputs": [
    {
     "data": {
      "text/plain": [
       "False    7500\n",
       "Name: Years in current job, dtype: int64"
      ]
     },
     "execution_count": 58,
     "metadata": {},
     "output_type": "execute_result"
    }
   ],
   "source": [
    "train_df['Years in current job'].isna().value_counts()"
   ]
  },
  {
   "cell_type": "markdown",
   "id": "8cf95cb8",
   "metadata": {},
   "source": [
    "Преобразовываем в числовой"
   ]
  },
  {
   "cell_type": "code",
   "execution_count": 59,
   "id": "16a80989",
   "metadata": {},
   "outputs": [],
   "source": [
    "categories_to_numbers = {'< 1 year': 0, '1 year': 1, '2 years': 2, '3 years': 3, '4 years': 4, '5 years': 5, \\\n",
    "                         '6 years': 6, '7 years': 7, '8 years': 8, '9 years': 9, '10+ years': 10}\n",
    "\n",
    "train_df['Years in current job'] = train_df['Years in current job'].replace(categories_to_numbers).astype(np.int32)"
   ]
  },
  {
   "cell_type": "code",
   "execution_count": 60,
   "id": "e4d84080",
   "metadata": {},
   "outputs": [
    {
     "data": {
      "text/plain": [
       "10    2703\n",
       "2      705\n",
       "3      620\n",
       "0      563\n",
       "5      516\n",
       "1      504\n",
       "4      469\n",
       "6      426\n",
       "7      396\n",
       "8      339\n",
       "9      259\n",
       "Name: Years in current job, dtype: int64"
      ]
     },
     "execution_count": 60,
     "metadata": {},
     "output_type": "execute_result"
    }
   ],
   "source": [
    "train_df['Years in current job'].value_counts()"
   ]
  },
  {
   "cell_type": "markdown",
   "id": "0209855e",
   "metadata": {},
   "source": [
    "#### Анализ Purpose"
   ]
  },
  {
   "cell_type": "code",
   "execution_count": 61,
   "id": "d01329bd",
   "metadata": {},
   "outputs": [
    {
     "data": {
      "text/plain": [
       "debt consolidation      5944\n",
       "other                    665\n",
       "home improvements        412\n",
       "business loan            129\n",
       "buy a car                 96\n",
       "medical bills             71\n",
       "major purchase            40\n",
       "take a trip               37\n",
       "buy house                 34\n",
       "small business            26\n",
       "wedding                   15\n",
       "moving                    11\n",
       "educational expenses      10\n",
       "vacation                   8\n",
       "renewable energy           2\n",
       "Name: Purpose, dtype: int64"
      ]
     },
     "execution_count": 61,
     "metadata": {},
     "output_type": "execute_result"
    }
   ],
   "source": [
    "train_df['Purpose'].value_counts()"
   ]
  },
  {
   "cell_type": "markdown",
   "id": "fcb6e130",
   "metadata": {},
   "source": [
    "Совмещу некоторые категории в одну"
   ]
  },
  {
   "cell_type": "code",
   "execution_count": 62,
   "id": "011989f3",
   "metadata": {},
   "outputs": [],
   "source": [
    "train_df.loc[train_df['Purpose'] == 'take a trip', 'Purpose'] = 'vacation'\n",
    "train_df.loc[train_df['Purpose'] == 'renewable energy', 'Purpose'] = 'business loan'\n",
    "train_df.loc[train_df['Purpose'] == 'small business', 'Purpose'] = 'business loan'\n",
    "train_df.loc[train_df['Purpose'] == 'moving', 'Purpose'] = 'other'"
   ]
  },
  {
   "cell_type": "code",
   "execution_count": 63,
   "id": "efdf356d",
   "metadata": {},
   "outputs": [
    {
     "data": {
      "text/plain": [
       "debt consolidation      5944\n",
       "other                    676\n",
       "home improvements        412\n",
       "business loan            157\n",
       "buy a car                 96\n",
       "medical bills             71\n",
       "vacation                  45\n",
       "major purchase            40\n",
       "buy house                 34\n",
       "wedding                   15\n",
       "educational expenses      10\n",
       "moving                     0\n",
       "renewable energy           0\n",
       "small business             0\n",
       "take a trip                0\n",
       "Name: Purpose, dtype: int64"
      ]
     },
     "execution_count": 63,
     "metadata": {},
     "output_type": "execute_result"
    }
   ],
   "source": [
    "train_df['Purpose'].value_counts()"
   ]
  },
  {
   "cell_type": "markdown",
   "id": "467946f0",
   "metadata": {},
   "source": [
    "Буду приводить к бинарным признакам"
   ]
  },
  {
   "cell_type": "markdown",
   "id": "b1eeddb8",
   "metadata": {},
   "source": [
    "#### Анализ Term"
   ]
  },
  {
   "cell_type": "code",
   "execution_count": 64,
   "id": "fbf78349",
   "metadata": {},
   "outputs": [
    {
     "data": {
      "text/plain": [
       "Short Term    5556\n",
       "Long Term     1944\n",
       "Name: Term, dtype: int64"
      ]
     },
     "execution_count": 64,
     "metadata": {},
     "output_type": "execute_result"
    }
   ],
   "source": [
    "train_df['Term'].value_counts()"
   ]
  },
  {
   "cell_type": "code",
   "execution_count": 65,
   "id": "56b4257b",
   "metadata": {},
   "outputs": [],
   "source": [
    "categories_to_binary = {'Short Term': 0, 'Long Term': 1}\n",
    "train_df['Term'] = train_df['Term'].replace(categories_to_binary).astype(np.int8)"
   ]
  },
  {
   "cell_type": "code",
   "execution_count": 66,
   "id": "cd00ef7d",
   "metadata": {},
   "outputs": [
    {
     "data": {
      "text/plain": [
       "0    5556\n",
       "1    1944\n",
       "Name: Term, dtype: int64"
      ]
     },
     "execution_count": 66,
     "metadata": {},
     "output_type": "execute_result"
    }
   ],
   "source": [
    "train_df['Term'].value_counts()"
   ]
  },
  {
   "cell_type": "markdown",
   "id": "497c60d1",
   "metadata": {},
   "source": [
    "Генерация Дамми признаков"
   ]
  },
  {
   "cell_type": "code",
   "execution_count": 67,
   "id": "d22966e0",
   "metadata": {},
   "outputs": [
    {
     "data": {
      "text/html": [
       "<div>\n",
       "<style scoped>\n",
       "    .dataframe tbody tr th:only-of-type {\n",
       "        vertical-align: middle;\n",
       "    }\n",
       "\n",
       "    .dataframe tbody tr th {\n",
       "        vertical-align: top;\n",
       "    }\n",
       "\n",
       "    .dataframe thead th {\n",
       "        text-align: right;\n",
       "    }\n",
       "</style>\n",
       "<table border=\"1\" class=\"dataframe\">\n",
       "  <thead>\n",
       "    <tr style=\"text-align: right;\">\n",
       "      <th></th>\n",
       "      <th>Annual Income</th>\n",
       "      <th>Years in current job</th>\n",
       "      <th>Tax Liens</th>\n",
       "      <th>Number of Open Accounts</th>\n",
       "      <th>Years of Credit History</th>\n",
       "      <th>Maximum Open Credit</th>\n",
       "      <th>Number of Credit Problems</th>\n",
       "      <th>Months since last delinquent</th>\n",
       "      <th>Bankruptcies</th>\n",
       "      <th>Term</th>\n",
       "      <th>...</th>\n",
       "      <th>Purpose_home improvements</th>\n",
       "      <th>Purpose_major purchase</th>\n",
       "      <th>Purpose_medical bills</th>\n",
       "      <th>Purpose_moving</th>\n",
       "      <th>Purpose_other</th>\n",
       "      <th>Purpose_renewable energy</th>\n",
       "      <th>Purpose_small business</th>\n",
       "      <th>Purpose_take a trip</th>\n",
       "      <th>Purpose_vacation</th>\n",
       "      <th>Purpose_wedding</th>\n",
       "    </tr>\n",
       "  </thead>\n",
       "  <tbody>\n",
       "    <tr>\n",
       "      <th>0</th>\n",
       "      <td>482087.0</td>\n",
       "      <td>10</td>\n",
       "      <td>0.0</td>\n",
       "      <td>11.0</td>\n",
       "      <td>26.3</td>\n",
       "      <td>685960.0</td>\n",
       "      <td>1.0</td>\n",
       "      <td>32.0</td>\n",
       "      <td>1.0</td>\n",
       "      <td>0</td>\n",
       "      <td>...</td>\n",
       "      <td>0</td>\n",
       "      <td>0</td>\n",
       "      <td>0</td>\n",
       "      <td>0</td>\n",
       "      <td>0</td>\n",
       "      <td>0</td>\n",
       "      <td>0</td>\n",
       "      <td>0</td>\n",
       "      <td>0</td>\n",
       "      <td>0</td>\n",
       "    </tr>\n",
       "    <tr>\n",
       "      <th>1</th>\n",
       "      <td>1025487.0</td>\n",
       "      <td>10</td>\n",
       "      <td>0.0</td>\n",
       "      <td>15.0</td>\n",
       "      <td>15.3</td>\n",
       "      <td>1181730.0</td>\n",
       "      <td>0.0</td>\n",
       "      <td>NaN</td>\n",
       "      <td>0.0</td>\n",
       "      <td>1</td>\n",
       "      <td>...</td>\n",
       "      <td>0</td>\n",
       "      <td>0</td>\n",
       "      <td>0</td>\n",
       "      <td>0</td>\n",
       "      <td>0</td>\n",
       "      <td>0</td>\n",
       "      <td>0</td>\n",
       "      <td>0</td>\n",
       "      <td>0</td>\n",
       "      <td>0</td>\n",
       "    </tr>\n",
       "    <tr>\n",
       "      <th>2</th>\n",
       "      <td>751412.0</td>\n",
       "      <td>8</td>\n",
       "      <td>0.0</td>\n",
       "      <td>11.0</td>\n",
       "      <td>35.0</td>\n",
       "      <td>1182434.0</td>\n",
       "      <td>0.0</td>\n",
       "      <td>NaN</td>\n",
       "      <td>0.0</td>\n",
       "      <td>0</td>\n",
       "      <td>...</td>\n",
       "      <td>0</td>\n",
       "      <td>0</td>\n",
       "      <td>0</td>\n",
       "      <td>0</td>\n",
       "      <td>0</td>\n",
       "      <td>0</td>\n",
       "      <td>0</td>\n",
       "      <td>0</td>\n",
       "      <td>0</td>\n",
       "      <td>0</td>\n",
       "    </tr>\n",
       "    <tr>\n",
       "      <th>3</th>\n",
       "      <td>805068.0</td>\n",
       "      <td>6</td>\n",
       "      <td>0.0</td>\n",
       "      <td>8.0</td>\n",
       "      <td>22.5</td>\n",
       "      <td>147400.0</td>\n",
       "      <td>1.0</td>\n",
       "      <td>NaN</td>\n",
       "      <td>1.0</td>\n",
       "      <td>0</td>\n",
       "      <td>...</td>\n",
       "      <td>0</td>\n",
       "      <td>0</td>\n",
       "      <td>0</td>\n",
       "      <td>0</td>\n",
       "      <td>0</td>\n",
       "      <td>0</td>\n",
       "      <td>0</td>\n",
       "      <td>0</td>\n",
       "      <td>0</td>\n",
       "      <td>0</td>\n",
       "    </tr>\n",
       "    <tr>\n",
       "      <th>4</th>\n",
       "      <td>776264.0</td>\n",
       "      <td>8</td>\n",
       "      <td>0.0</td>\n",
       "      <td>13.0</td>\n",
       "      <td>13.6</td>\n",
       "      <td>385836.0</td>\n",
       "      <td>1.0</td>\n",
       "      <td>NaN</td>\n",
       "      <td>0.0</td>\n",
       "      <td>0</td>\n",
       "      <td>...</td>\n",
       "      <td>0</td>\n",
       "      <td>0</td>\n",
       "      <td>0</td>\n",
       "      <td>0</td>\n",
       "      <td>0</td>\n",
       "      <td>0</td>\n",
       "      <td>0</td>\n",
       "      <td>0</td>\n",
       "      <td>0</td>\n",
       "      <td>0</td>\n",
       "    </tr>\n",
       "  </tbody>\n",
       "</table>\n",
       "<p>5 rows × 41 columns</p>\n",
       "</div>"
      ],
      "text/plain": [
       "   Annual Income  Years in current job  Tax Liens  Number of Open Accounts  \\\n",
       "0       482087.0                    10        0.0                     11.0   \n",
       "1      1025487.0                    10        0.0                     15.0   \n",
       "2       751412.0                     8        0.0                     11.0   \n",
       "3       805068.0                     6        0.0                      8.0   \n",
       "4       776264.0                     8        0.0                     13.0   \n",
       "\n",
       "   Years of Credit History  Maximum Open Credit  Number of Credit Problems  \\\n",
       "0                     26.3             685960.0                        1.0   \n",
       "1                     15.3            1181730.0                        0.0   \n",
       "2                     35.0            1182434.0                        0.0   \n",
       "3                     22.5             147400.0                        1.0   \n",
       "4                     13.6             385836.0                        1.0   \n",
       "\n",
       "   Months since last delinquent  Bankruptcies  Term  ...  \\\n",
       "0                          32.0           1.0     0  ...   \n",
       "1                           NaN           0.0     1  ...   \n",
       "2                           NaN           0.0     0  ...   \n",
       "3                           NaN           1.0     0  ...   \n",
       "4                           NaN           0.0     0  ...   \n",
       "\n",
       "   Purpose_home improvements  Purpose_major purchase  Purpose_medical bills  \\\n",
       "0                          0                       0                      0   \n",
       "1                          0                       0                      0   \n",
       "2                          0                       0                      0   \n",
       "3                          0                       0                      0   \n",
       "4                          0                       0                      0   \n",
       "\n",
       "   Purpose_moving  Purpose_other  Purpose_renewable energy  \\\n",
       "0               0              0                         0   \n",
       "1               0              0                         0   \n",
       "2               0              0                         0   \n",
       "3               0              0                         0   \n",
       "4               0              0                         0   \n",
       "\n",
       "   Purpose_small business  Purpose_take a trip  Purpose_vacation  \\\n",
       "0                       0                    0                 0   \n",
       "1                       0                    0                 0   \n",
       "2                       0                    0                 0   \n",
       "3                       0                    0                 0   \n",
       "4                       0                    0                 0   \n",
       "\n",
       "   Purpose_wedding  \n",
       "0                0  \n",
       "1                0  \n",
       "2                0  \n",
       "3                0  \n",
       "4                0  \n",
       "\n",
       "[5 rows x 41 columns]"
      ]
     },
     "execution_count": 67,
     "metadata": {},
     "output_type": "execute_result"
    }
   ],
   "source": [
    "train_df = pd.get_dummies(train_df)\n",
    "train_df.head()"
   ]
  },
  {
   "cell_type": "code",
   "execution_count": 68,
   "id": "7d080041",
   "metadata": {},
   "outputs": [],
   "source": [
    "class DataPreprocessing:\n",
    "    \"\"\"Подготовка исходных данных\"\"\"\n",
    "\n",
    "    def __init__(self):\n",
    "        \"\"\"Параметры класса\"\"\"\n",
    "        self.medians = None\n",
    "        self.modes = None\n",
    "        self.quantile_values = None\n",
    "    \n",
    "    \n",
    "    def fit(self, X):\n",
    "        \"\"\"Сохранение статистик\"\"\"       \n",
    "        # Расчет медиан\n",
    "        self.medians = X.median()\n",
    "        self.modes = X.mode()\n",
    "        self.quantile_values = self.__get_quantile_values(X, {'Annual Income': {'min': 0.025, 'max': 0.975},\n",
    "                                                              'Number of Open Accounts': {'min': 0.025, 'max': 0.975}, \n",
    "                                                              'Years of Credit History': {'min': 0.025, 'max': 0.975},\n",
    "                                                              'Months since last delinquent': {'min': 0.025, 'max': 0.975},\n",
    "                                                              'Monthly Debt': {'min': 0.025, 'max': 0.975},\n",
    "                                                      })\n",
    "    \n",
    "    \n",
    "    def transform(self, X):\n",
    "        \"\"\"Трансформация данных\"\"\"\n",
    "\n",
    "        X = X.copy()\n",
    "        # ****************************************************************************************\n",
    "        # Annual Income\n",
    "        X = self.__processing_outlier_through_quantiles(X, 'Annual Income')\n",
    "        # Восстановление Annual Income\n",
    "        X['Annual Income_nan'] = X['Annual Income'].isna() * 1\n",
    "        condition_isna = (X['Annual Income'].isna())   \n",
    "        X.loc[condition_isna, 'Annual Income'] = self.medians['Annual Income']\n",
    "\n",
    "        # Tax Liens - Не обрабатываем\n",
    "        \n",
    "        # Number of Open Accounts\n",
    "        X = self.__processing_outlier_through_quantiles(X, 'Number of Open Accounts')\n",
    "        \n",
    "        # Years of Credit History\n",
    "        X = self.__processing_outlier_through_quantiles(X, 'Years of Credit History')\n",
    "\n",
    "        # Maximum Open Credit - Не обрабатываем\n",
    "        # Number of Credit Problems - Не обрабатываем\n",
    "        \n",
    "        # Months since last delinquent\n",
    "        X = self.__processing_outlier_through_quantiles(X, 'Months since last delinquent')\n",
    "        # Восстановление Months since last delinquent\n",
    "        X['Months since last delinquent_nan'] = X['Months since last delinquent'].isna() * 1\n",
    "        X['Months since last delinquent'] =  X['Months since last delinquent'].fillna(self.modes['Months since last delinquent'][0])\n",
    "        \n",
    "        # Восстановление Bankruptcies\n",
    "        X['Bankruptcies'] = X['Bankruptcies'].fillna(self.modes['Bankruptcies'])\n",
    "        \n",
    "        # Current Loan Amount - Не обрабатываем\n",
    "        # Current Credit Balance - Не обрабатываем\n",
    "        \n",
    "        # Monthly Debt\n",
    "        X = self.__processing_outlier_through_quantiles(X, 'Monthly Debt')\n",
    "        \n",
    "        # Восстановление Credit Score\n",
    "        X['Credit Score'] = X['Credit Score'].fillna(self.medians['Credit Score'])\n",
    "        \n",
    "        # Восстановление Years in current job\n",
    "        X['Years in current job'] = X['Years in current job'].fillna(self.modes['Years in current job'][0])\n",
    "        \n",
    "        # Заполняем оставшиеся nan медианами    \n",
    "        X.fillna(self.medians, inplace=True)\n",
    "        \n",
    "        return X\n",
    "    \n",
    "    \n",
    "    def __create_out_feature(self, df, feature_name, condition, correct_value):\n",
    "        df[f'{feature_name}_outlier'] = 0\n",
    "        df.loc[condition, f'{feature_name}_outlier'] = 1\n",
    "        df.loc[condition, feature_name] = correct_value\n",
    "    \n",
    "        return df\n",
    "    \n",
    "    \n",
    "    def __get_quantile_values(self, df, feature_names_and_quantiles):\n",
    "        quantile_values = {}\n",
    "        for feature_name, quantiles in feature_names_and_quantiles.items():\n",
    "            key_1, key_2 = quantiles.keys()\n",
    "            value_1 = df[feature_name].quantile(q=quantiles[key_1])\n",
    "            value_2 = df[feature_name].quantile(q=quantiles[key_2])\n",
    "            quantile_values[feature_name] = {key_1: value_1, key_2: value_2}\n",
    "            \n",
    "        return quantile_values\n",
    "    \n",
    "    def __processing_outlier_through_quantiles(self, df, feature_name):\n",
    "        df = df.copy()\n",
    "        min_value = self.quantile_values[feature_name]['min']\n",
    "        max_value = self.quantile_values[feature_name]['max']\n",
    "        condition = (df[feature_name] < min_value) | (df[feature_name] > max_value)\n",
    "        df = self.__create_out_feature(df, feature_name, condition, self.medians[feature_name])\n",
    "        \n",
    "        return df"
   ]
  },
  {
   "cell_type": "code",
   "execution_count": 69,
   "id": "ccb57a94",
   "metadata": {},
   "outputs": [],
   "source": [
    "class FeatureGenetator():\n",
    "    \"\"\"Генерация новых фич\"\"\"\n",
    "    \n",
    "    def __init__(self):\n",
    "        self.bins = None\n",
    "        self.years_categories_to_years_numbers = None\n",
    "        self.categories_to_binary = None\n",
    "        \n",
    "        \n",
    "    def fit(self, X):\n",
    "        self.bins = 2\n",
    "        self.years_categories_to_years_numbers = {'< 1 year': 0, '1 year': 1, '2 years': 2, '3 years': 3, '4 years': 4, '5 years': 5, \\\n",
    "                                                    '6 years': 6, '7 years': 7, '8 years': 8, '9 years': 9, '10+ years': 10}\n",
    "        self.categories_to_binary = {'Short Term': 0, 'Long Term': 1}\n",
    "        \n",
    "        \n",
    "    def transform(self, X):  \n",
    "        # Credit Score\n",
    "        X['Credit Score_cat'] = pd.cut(X['Credit Score'], bins=self.bins, labels=False) \n",
    "        \n",
    "        # Home Ownership\n",
    "        X.loc[X['Home Ownership'] == 'Have Mortgage', 'Home Ownership'] = 'Home Mortgage'\n",
    "        \n",
    "        # Years in current job\n",
    "        X['Years in current job'] = X['Years in current job'].replace(self.years_categories_to_years_numbers).astype(np.int32)\n",
    "        \n",
    "        # Purpose\n",
    "        X.loc[X['Purpose'] == 'take a trip', 'Purpose'] = 'vacation'\n",
    "        X.loc[X['Purpose'] == 'renewable energy', 'Purpose'] = 'business loan'\n",
    "        X.loc[X['Purpose'] == 'small business', 'Purpose'] = 'business loan'\n",
    "        X.loc[X['Purpose'] == 'moving', 'Purpose'] = 'other'\n",
    "        \n",
    "        # Term\n",
    "        X['Term'] = X['Term'].replace(self.categories_to_binary).astype(np.int8)\n",
    "        \n",
    "        # Генерация дамми\n",
    "        X = pd.get_dummies(X)\n",
    "        \n",
    "        return X"
   ]
  },
  {
   "cell_type": "markdown",
   "id": "5adbdf72",
   "metadata": {},
   "source": [
    "#### Отбор признаков"
   ]
  },
  {
   "cell_type": "code",
   "execution_count": 70,
   "id": "4c4759c9",
   "metadata": {},
   "outputs": [
    {
     "data": {
      "text/plain": [
       "['Annual Income',\n",
       " 'Years in current job',\n",
       " 'Tax Liens',\n",
       " 'Number of Open Accounts',\n",
       " 'Years of Credit History',\n",
       " 'Maximum Open Credit',\n",
       " 'Number of Credit Problems',\n",
       " 'Months since last delinquent',\n",
       " 'Bankruptcies',\n",
       " 'Term',\n",
       " 'Current Loan Amount',\n",
       " 'Current Credit Balance',\n",
       " 'Monthly Debt',\n",
       " 'Credit Score',\n",
       " 'Credit Default',\n",
       " 'Annual Income_outlier',\n",
       " 'Annual Income_nan',\n",
       " 'Number of Open Accounts_outlier',\n",
       " 'Years of Credit History_outlier',\n",
       " 'Months since last delinquent_outlier',\n",
       " 'Months since last delinquent_nan',\n",
       " 'Monthly Debt_outlier',\n",
       " 'Home Ownership_Have Mortgage',\n",
       " 'Home Ownership_Home Mortgage',\n",
       " 'Home Ownership_Own Home',\n",
       " 'Home Ownership_Rent',\n",
       " 'Purpose_business loan',\n",
       " 'Purpose_buy a car',\n",
       " 'Purpose_buy house',\n",
       " 'Purpose_debt consolidation',\n",
       " 'Purpose_educational expenses',\n",
       " 'Purpose_home improvements',\n",
       " 'Purpose_major purchase',\n",
       " 'Purpose_medical bills',\n",
       " 'Purpose_moving',\n",
       " 'Purpose_other',\n",
       " 'Purpose_renewable energy',\n",
       " 'Purpose_small business',\n",
       " 'Purpose_take a trip',\n",
       " 'Purpose_vacation',\n",
       " 'Purpose_wedding']"
      ]
     },
     "execution_count": 70,
     "metadata": {},
     "output_type": "execute_result"
    }
   ],
   "source": [
    "train_df.columns.tolist()"
   ]
  },
  {
   "cell_type": "code",
   "execution_count": 215,
   "id": "5597ca19",
   "metadata": {},
   "outputs": [],
   "source": [
    "feature_names = ['Annual Income', \n",
    "                 'Tax Liens', \n",
    "                 'Number of Open Accounts', \n",
    "                 'Years of Credit History',\n",
    "                 'Maximum Open Credit', \n",
    "                 'Number of Credit Problems', \n",
    "                 'Months since last delinquent',\n",
    "                 'Bankruptcies', \n",
    "                 'Current Loan Amount', \n",
    "                 'Current Credit Balance', \n",
    "                 'Monthly Debt', \n",
    "                 'Years in current job',\n",
    "                 'Term',]\n",
    "\n",
    "new_feature_names = [ 'Annual Income_outlier',\n",
    "                      'Annual Income_nan',\n",
    "                      'Number of Open Accounts_outlier',\n",
    "                      'Years of Credit History_outlier',\n",
    "                      'Months since last delinquent_outlier',\n",
    "                      'Months since last delinquent_nan',\n",
    "                      'Monthly Debt_outlier',\n",
    "                      'Credit Score_cat',\n",
    "                      'Home Ownership_Home Mortgage',\n",
    "                      'Home Ownership_Own Home',\n",
    "                      'Home Ownership_Rent',\n",
    "                      'Purpose_business loan',\n",
    "                      'Purpose_buy a car',\n",
    "                      'Purpose_buy house',\n",
    "                      'Purpose_debt consolidation',\n",
    "                      'Purpose_educational expenses',\n",
    "                      'Purpose_home improvements',\n",
    "                      'Purpose_major purchase',\n",
    "                      'Purpose_medical bills',\n",
    "                      'Purpose_other',\n",
    "                      'Purpose_vacation',\n",
    "                      'Purpose_wedding']\n",
    "\n",
    "target_name = 'Credit Default'"
   ]
  },
  {
   "cell_type": "code",
   "execution_count": 216,
   "id": "59c37438",
   "metadata": {},
   "outputs": [],
   "source": [
    "train_df = pd.read_csv(TRAIN_DATASET_PATH)\n",
    "\n",
    "X = train_df.drop(columns=target_name)\n",
    "y = train_df[target_name]"
   ]
  },
  {
   "cell_type": "code",
   "execution_count": 217,
   "id": "669700cc",
   "metadata": {},
   "outputs": [],
   "source": [
    "X_train, X_valid, y_train, y_valid = train_test_split(X, y, test_size=0.33, shuffle=True, random_state=21)"
   ]
  },
  {
   "cell_type": "code",
   "execution_count": 218,
   "id": "2f866e66",
   "metadata": {},
   "outputs": [],
   "source": [
    "preprocessor = DataPreprocessing()\n",
    "preprocessor.fit(X_train)"
   ]
  },
  {
   "cell_type": "code",
   "execution_count": 219,
   "id": "57f5c24f",
   "metadata": {},
   "outputs": [
    {
     "data": {
      "text/plain": [
       "((5025, 23), (2475, 23), (2500, 35))"
      ]
     },
     "execution_count": 219,
     "metadata": {},
     "output_type": "execute_result"
    }
   ],
   "source": [
    "X_train = preprocessor.transform(X_train)\n",
    "X_valid = preprocessor.transform(X_valid)\n",
    "\n",
    "X_train.shape, X_valid.shape, test_df.shape"
   ]
  },
  {
   "cell_type": "code",
   "execution_count": 220,
   "id": "77aa5d6b",
   "metadata": {},
   "outputs": [
    {
     "data": {
      "text/plain": [
       "((5025, 36), (2475, 36))"
      ]
     },
     "execution_count": 220,
     "metadata": {},
     "output_type": "execute_result"
    }
   ],
   "source": [
    "features_gen = FeatureGenetator()\n",
    "features_gen.fit(X_train)\n",
    "\n",
    "X_train = features_gen.transform(X_train)\n",
    "X_valid = features_gen.transform(X_valid)\n",
    "\n",
    "\n",
    "X_train.shape, X_valid.shape, "
   ]
  },
  {
   "cell_type": "code",
   "execution_count": 221,
   "id": "64f9006d",
   "metadata": {},
   "outputs": [],
   "source": [
    "X_train = X_train[feature_names + new_feature_names]\n",
    "X_valid = X_valid[feature_names + new_feature_names]"
   ]
  },
  {
   "cell_type": "code",
   "execution_count": 222,
   "id": "6e2bd15e",
   "metadata": {},
   "outputs": [],
   "source": [
    "scaler = StandardScaler()\n",
    "\n",
    "X_train_norm = X_train.copy()\n",
    "X_train_norm = scaler.fit_transform(X_train_norm)\n",
    "\n",
    "X_valid_norm = X_valid.copy()\n",
    "X_valid_norm = scaler.transform(X_valid_norm)"
   ]
  },
  {
   "cell_type": "code",
   "execution_count": 223,
   "id": "4683b240",
   "metadata": {},
   "outputs": [
    {
     "data": {
      "text/plain": [
       "(0, 0)"
      ]
     },
     "execution_count": 223,
     "metadata": {},
     "output_type": "execute_result"
    }
   ],
   "source": [
    "X_train.isna().sum().sum(), X_valid.isna().sum().sum()"
   ]
  },
  {
   "cell_type": "markdown",
   "id": "a97aa83e",
   "metadata": {},
   "source": [
    "#### создание новых выборок "
   ]
  },
  {
   "cell_type": "code",
   "execution_count": 224,
   "id": "f3f470ac",
   "metadata": {},
   "outputs": [
    {
     "name": "stdout",
     "output_type": "stream",
     "text": [
      "Original dataset shape:\n",
      "0    5387\n",
      "1    2113\n",
      "Name: Credit Default, dtype: int64\n",
      "\n",
      "Resample dataset shape:\n",
      "0    3611\n",
      "1    3611\n",
      "Name: Credit Default, dtype: int64\n"
     ]
    }
   ],
   "source": [
    "ros = RandomOverSampler(random_state=42)\n",
    "x_ros, y_ros = ros.fit_resample(X_train_norm, y_train)\n",
    "\n",
    "print(f'Original dataset shape:\\n{y.value_counts()}\\n')\n",
    "print(f'Resample dataset shape:\\n{y_ros.value_counts()}')"
   ]
  },
  {
   "cell_type": "markdown",
   "id": "5c5104b4",
   "metadata": {},
   "source": [
    "#### Построение модели"
   ]
  },
  {
   "cell_type": "code",
   "execution_count": 225,
   "id": "e4fa027a",
   "metadata": {},
   "outputs": [],
   "source": [
    "#\n",
    "#clf = xgb.XGBClassifier()\n",
    "#params = {'iterations': [500],\n",
    "#          'depth': [4, 5, 6, 7, 8, 9],\n",
    "#         'loss_function': ['Logloss', 'CrossEntropy'],\n",
    "#          'l2_leaf_reg': np.logspace(-20, -19, 3, 10),\n",
    "#          'leaf_estimation_iterations': [10],\n",
    "#           'eval_metric': ['Accuracy'],\n",
    "#           'use_best_model': ['True'],\n",
    "#          'logging_level':['Silent'],\n",
    "#          'random_seed': [42]\n",
    "#         }\n",
    "\n",
    "#clf_grid = GridSearchCV(estimator=clf, param_grid=params, scoring='f1', cv=5)\n",
    "#clf_grid.fit(x_ros, y_ros)\n",
    "#clf_grid.best_params_"
   ]
  },
  {
   "cell_type": "code",
   "execution_count": 226,
   "id": "a7fadd48",
   "metadata": {},
   "outputs": [
    {
     "data": {
      "text/plain": [
       "<catboost.core.CatBoostClassifier at 0x1fe086aa4c0>"
      ]
     },
     "execution_count": 226,
     "metadata": {},
     "output_type": "execute_result"
    }
   ],
   "source": [
    "rf_model = CatBoostClassifier(depth=4, iterations=500,l2_leaf_reg=1e-20,leaf_estimation_iterations=10,\n",
    " logging_level='Silent', loss_function='Logloss', random_seed=42)\n",
    "rf_model.fit(x_ros, y_ros)"
   ]
  },
  {
   "cell_type": "markdown",
   "id": "0b5338bd",
   "metadata": {},
   "source": [
    "#### Кросс-валидация"
   ]
  },
  {
   "cell_type": "code",
   "execution_count": 227,
   "id": "647249f1",
   "metadata": {},
   "outputs": [
    {
     "data": {
      "text/plain": [
       "array([0.74553191, 0.73007927, 0.7539749 ])"
      ]
     },
     "execution_count": 227,
     "metadata": {},
     "output_type": "execute_result"
    }
   ],
   "source": [
    "cv_score = cross_val_score(rf_model, x_ros, y_ros, scoring='f1', cv=KFold(n_splits=3, shuffle=True, random_state=21))\n",
    "cv_score"
   ]
  },
  {
   "cell_type": "markdown",
   "id": "782cb831",
   "metadata": {},
   "source": [
    "#### Делаем предсказание на X_valid_norm"
   ]
  },
  {
   "cell_type": "code",
   "execution_count": 228,
   "id": "a760d69a",
   "metadata": {},
   "outputs": [],
   "source": [
    "y_valid_pred = rf_model.predict(X_valid_norm)"
   ]
  },
  {
   "cell_type": "code",
   "execution_count": 229,
   "id": "cf2a9302",
   "metadata": {},
   "outputs": [
    {
     "name": "stdout",
     "output_type": "stream",
     "text": [
      "F1 scope: 0.5282767797737857\n"
     ]
    }
   ],
   "source": [
    "scope = f1_score(y_valid, y_valid_pred)\n",
    "print(f\"F1 scope: {scope}\")"
   ]
  },
  {
   "cell_type": "markdown",
   "id": "99ffbd69",
   "metadata": {},
   "source": [
    "#### Важность признаков"
   ]
  },
  {
   "cell_type": "code",
   "execution_count": 230,
   "id": "401d184d",
   "metadata": {},
   "outputs": [
    {
     "data": {
      "text/html": [
       "<div>\n",
       "<style scoped>\n",
       "    .dataframe tbody tr th:only-of-type {\n",
       "        vertical-align: middle;\n",
       "    }\n",
       "\n",
       "    .dataframe tbody tr th {\n",
       "        vertical-align: top;\n",
       "    }\n",
       "\n",
       "    .dataframe thead th {\n",
       "        text-align: right;\n",
       "    }\n",
       "</style>\n",
       "<table border=\"1\" class=\"dataframe\">\n",
       "  <thead>\n",
       "    <tr style=\"text-align: right;\">\n",
       "      <th></th>\n",
       "      <th>feature_name</th>\n",
       "      <th>importance</th>\n",
       "    </tr>\n",
       "  </thead>\n",
       "  <tbody>\n",
       "    <tr>\n",
       "      <th>20</th>\n",
       "      <td>Credit Score_cat</td>\n",
       "      <td>31.627527</td>\n",
       "    </tr>\n",
       "    <tr>\n",
       "      <th>8</th>\n",
       "      <td>Current Loan Amount</td>\n",
       "      <td>26.524497</td>\n",
       "    </tr>\n",
       "    <tr>\n",
       "      <th>4</th>\n",
       "      <td>Maximum Open Credit</td>\n",
       "      <td>6.564628</td>\n",
       "    </tr>\n",
       "    <tr>\n",
       "      <th>0</th>\n",
       "      <td>Annual Income</td>\n",
       "      <td>5.899862</td>\n",
       "    </tr>\n",
       "    <tr>\n",
       "      <th>10</th>\n",
       "      <td>Monthly Debt</td>\n",
       "      <td>4.444615</td>\n",
       "    </tr>\n",
       "    <tr>\n",
       "      <th>9</th>\n",
       "      <td>Current Credit Balance</td>\n",
       "      <td>4.152418</td>\n",
       "    </tr>\n",
       "    <tr>\n",
       "      <th>3</th>\n",
       "      <td>Years of Credit History</td>\n",
       "      <td>4.020763</td>\n",
       "    </tr>\n",
       "    <tr>\n",
       "      <th>6</th>\n",
       "      <td>Months since last delinquent</td>\n",
       "      <td>2.736425</td>\n",
       "    </tr>\n",
       "    <tr>\n",
       "      <th>12</th>\n",
       "      <td>Term</td>\n",
       "      <td>2.349021</td>\n",
       "    </tr>\n",
       "    <tr>\n",
       "      <th>2</th>\n",
       "      <td>Number of Open Accounts</td>\n",
       "      <td>1.811710</td>\n",
       "    </tr>\n",
       "    <tr>\n",
       "      <th>11</th>\n",
       "      <td>Years in current job</td>\n",
       "      <td>1.579495</td>\n",
       "    </tr>\n",
       "    <tr>\n",
       "      <th>24</th>\n",
       "      <td>Purpose_business loan</td>\n",
       "      <td>0.796445</td>\n",
       "    </tr>\n",
       "    <tr>\n",
       "      <th>21</th>\n",
       "      <td>Home Ownership_Home Mortgage</td>\n",
       "      <td>0.764867</td>\n",
       "    </tr>\n",
       "    <tr>\n",
       "      <th>14</th>\n",
       "      <td>Annual Income_nan</td>\n",
       "      <td>0.678117</td>\n",
       "    </tr>\n",
       "    <tr>\n",
       "      <th>5</th>\n",
       "      <td>Number of Credit Problems</td>\n",
       "      <td>0.668008</td>\n",
       "    </tr>\n",
       "    <tr>\n",
       "      <th>27</th>\n",
       "      <td>Purpose_debt consolidation</td>\n",
       "      <td>0.645738</td>\n",
       "    </tr>\n",
       "    <tr>\n",
       "      <th>1</th>\n",
       "      <td>Tax Liens</td>\n",
       "      <td>0.570017</td>\n",
       "    </tr>\n",
       "    <tr>\n",
       "      <th>16</th>\n",
       "      <td>Years of Credit History_outlier</td>\n",
       "      <td>0.524183</td>\n",
       "    </tr>\n",
       "    <tr>\n",
       "      <th>13</th>\n",
       "      <td>Annual Income_outlier</td>\n",
       "      <td>0.501398</td>\n",
       "    </tr>\n",
       "    <tr>\n",
       "      <th>23</th>\n",
       "      <td>Home Ownership_Rent</td>\n",
       "      <td>0.486605</td>\n",
       "    </tr>\n",
       "    <tr>\n",
       "      <th>19</th>\n",
       "      <td>Monthly Debt_outlier</td>\n",
       "      <td>0.483509</td>\n",
       "    </tr>\n",
       "    <tr>\n",
       "      <th>17</th>\n",
       "      <td>Months since last delinquent_outlier</td>\n",
       "      <td>0.372667</td>\n",
       "    </tr>\n",
       "    <tr>\n",
       "      <th>15</th>\n",
       "      <td>Number of Open Accounts_outlier</td>\n",
       "      <td>0.332919</td>\n",
       "    </tr>\n",
       "    <tr>\n",
       "      <th>22</th>\n",
       "      <td>Home Ownership_Own Home</td>\n",
       "      <td>0.258821</td>\n",
       "    </tr>\n",
       "    <tr>\n",
       "      <th>25</th>\n",
       "      <td>Purpose_buy a car</td>\n",
       "      <td>0.257222</td>\n",
       "    </tr>\n",
       "    <tr>\n",
       "      <th>32</th>\n",
       "      <td>Purpose_other</td>\n",
       "      <td>0.231972</td>\n",
       "    </tr>\n",
       "    <tr>\n",
       "      <th>29</th>\n",
       "      <td>Purpose_home improvements</td>\n",
       "      <td>0.185743</td>\n",
       "    </tr>\n",
       "    <tr>\n",
       "      <th>7</th>\n",
       "      <td>Bankruptcies</td>\n",
       "      <td>0.165223</td>\n",
       "    </tr>\n",
       "    <tr>\n",
       "      <th>30</th>\n",
       "      <td>Purpose_major purchase</td>\n",
       "      <td>0.153722</td>\n",
       "    </tr>\n",
       "    <tr>\n",
       "      <th>31</th>\n",
       "      <td>Purpose_medical bills</td>\n",
       "      <td>0.100774</td>\n",
       "    </tr>\n",
       "    <tr>\n",
       "      <th>18</th>\n",
       "      <td>Months since last delinquent_nan</td>\n",
       "      <td>0.045418</td>\n",
       "    </tr>\n",
       "    <tr>\n",
       "      <th>33</th>\n",
       "      <td>Purpose_vacation</td>\n",
       "      <td>0.041699</td>\n",
       "    </tr>\n",
       "    <tr>\n",
       "      <th>26</th>\n",
       "      <td>Purpose_buy house</td>\n",
       "      <td>0.023970</td>\n",
       "    </tr>\n",
       "    <tr>\n",
       "      <th>28</th>\n",
       "      <td>Purpose_educational expenses</td>\n",
       "      <td>0.000000</td>\n",
       "    </tr>\n",
       "    <tr>\n",
       "      <th>34</th>\n",
       "      <td>Purpose_wedding</td>\n",
       "      <td>0.000000</td>\n",
       "    </tr>\n",
       "  </tbody>\n",
       "</table>\n",
       "</div>"
      ],
      "text/plain": [
       "                            feature_name  importance\n",
       "20                      Credit Score_cat   31.627527\n",
       "8                    Current Loan Amount   26.524497\n",
       "4                    Maximum Open Credit    6.564628\n",
       "0                          Annual Income    5.899862\n",
       "10                          Monthly Debt    4.444615\n",
       "9                 Current Credit Balance    4.152418\n",
       "3                Years of Credit History    4.020763\n",
       "6           Months since last delinquent    2.736425\n",
       "12                                  Term    2.349021\n",
       "2                Number of Open Accounts    1.811710\n",
       "11                  Years in current job    1.579495\n",
       "24                 Purpose_business loan    0.796445\n",
       "21          Home Ownership_Home Mortgage    0.764867\n",
       "14                     Annual Income_nan    0.678117\n",
       "5              Number of Credit Problems    0.668008\n",
       "27            Purpose_debt consolidation    0.645738\n",
       "1                              Tax Liens    0.570017\n",
       "16       Years of Credit History_outlier    0.524183\n",
       "13                 Annual Income_outlier    0.501398\n",
       "23                   Home Ownership_Rent    0.486605\n",
       "19                  Monthly Debt_outlier    0.483509\n",
       "17  Months since last delinquent_outlier    0.372667\n",
       "15       Number of Open Accounts_outlier    0.332919\n",
       "22               Home Ownership_Own Home    0.258821\n",
       "25                     Purpose_buy a car    0.257222\n",
       "32                         Purpose_other    0.231972\n",
       "29             Purpose_home improvements    0.185743\n",
       "7                           Bankruptcies    0.165223\n",
       "30                Purpose_major purchase    0.153722\n",
       "31                 Purpose_medical bills    0.100774\n",
       "18      Months since last delinquent_nan    0.045418\n",
       "33                      Purpose_vacation    0.041699\n",
       "26                     Purpose_buy house    0.023970\n",
       "28          Purpose_educational expenses    0.000000\n",
       "34                       Purpose_wedding    0.000000"
      ]
     },
     "execution_count": 230,
     "metadata": {},
     "output_type": "execute_result"
    }
   ],
   "source": [
    "feature_importances = pd.DataFrame(zip(X_train.columns, rf_model.feature_importances_), \n",
    "                                   columns=['feature_name', 'importance'])\n",
    "\n",
    "feature_importances.sort_values(by='importance', ascending=False)"
   ]
  },
  {
   "cell_type": "code",
   "execution_count": null,
   "id": "deb373ab",
   "metadata": {},
   "outputs": [],
   "source": []
  }
 ],
 "metadata": {
  "kernelspec": {
   "display_name": "Python 3 (ipykernel)",
   "language": "python",
   "name": "python3"
  },
  "language_info": {
   "codemirror_mode": {
    "name": "ipython",
    "version": 3
   },
   "file_extension": ".py",
   "mimetype": "text/x-python",
   "name": "python",
   "nbconvert_exporter": "python",
   "pygments_lexer": "ipython3",
   "version": "3.9.2"
  }
 },
 "nbformat": 4,
 "nbformat_minor": 5
}
