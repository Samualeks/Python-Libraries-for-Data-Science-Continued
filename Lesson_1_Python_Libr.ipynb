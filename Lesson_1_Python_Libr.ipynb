{
 "cells": [
  {
   "cell_type": "markdown",
   "id": "b626f726",
   "metadata": {},
   "source": [
    "Урок 1. Введение в задачу классификации. Постановка задачи и подготовка данных."
   ]
  },
  {
   "cell_type": "markdown",
   "id": "09b73756",
   "metadata": {},
   "source": [
    "1. Приведите по 2 примера, когда лучше максимизировать Precision, а когда Recall."
   ]
  },
  {
   "cell_type": "markdown",
   "id": "e26ca4c7",
   "metadata": {},
   "source": [
    "Если кредитная политика банка направлена на увеличение платежеспособных клиентов, имеет смысл максимизировать Precision.\n",
    "\n",
    "При оценке на сейсмоактивность лучше максимизировать Precision, причислив место к сейсмоактивным.\n",
    "\n",
    "Если кредитная политика банка направлена на большую выручку, имеет смысл максимизировать Recall.\n",
    "\n",
    "Если при гангрене речь идет о жизни человека, то величину ампутируемой части имеет смысл определять исходя из максимизации Recall."
   ]
  },
  {
   "cell_type": "markdown",
   "id": "d36782d5",
   "metadata": {},
   "source": [
    "2. Почему мы используем F-меру, почему, например, нельзя просто взять среднее от Precision и Recall?"
   ]
  },
  {
   "cell_type": "markdown",
   "id": "d25d6c3e",
   "metadata": {},
   "source": [
    "Во-первых, F-мера позволяет оценить в комплексе как Precision, так и Recall.\n",
    "Во-вторых, F-мера позволяет увеличивать или уменьшать влияние Precision и Recall"
   ]
  },
  {
   "cell_type": "code",
   "execution_count": null,
   "id": "96a6597b",
   "metadata": {},
   "outputs": [],
   "source": []
  }
 ],
 "metadata": {
  "kernelspec": {
   "display_name": "Python 3 (ipykernel)",
   "language": "python",
   "name": "python3"
  },
  "language_info": {
   "codemirror_mode": {
    "name": "ipython",
    "version": 3
   },
   "file_extension": ".py",
   "mimetype": "text/x-python",
   "name": "python",
   "nbconvert_exporter": "python",
   "pygments_lexer": "ipython3",
   "version": "3.9.12"
  }
 },
 "nbformat": 4,
 "nbformat_minor": 5
}
